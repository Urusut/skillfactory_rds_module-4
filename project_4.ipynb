{
 "cells": [
  {
   "cell_type": "code",
   "execution_count": 192,
   "metadata": {},
   "outputs": [
    {
     "name": "stdout",
     "output_type": "stream",
     "text": [
      "['.ipynb_checkpoints', 'sample_submission.csv', 'test.csv', 'testм.csv', 'train.csv', 'train2.csv', 'trainм.csv']\n"
     ]
    }
   ],
   "source": [
    "import pandas as pd\n",
    "import pandas_profiling\n",
    "from pandas import Series\n",
    "import numpy as np\n",
    "from sklearn.model_selection import train_test_split \n",
    "from sklearn.ensemble import RandomForestRegressor \n",
    "from sklearn import metrics\n",
    "from sklearn.metrics import accuracy_score, precision_score, recall_score, f1_score\n",
    "from sklearn.preprocessing import LabelEncoder, OneHotEncoder, StandardScaler\n",
    "from sklearn.preprocessing import PolynomialFeatures\n",
    "import optuna\n",
    "from collections import Counter\n",
    "import datetime\n",
    "import os\n",
    "import matplotlib.pyplot as plt\n",
    "import seaborn as sns \n",
    "%matplotlib inline\n",
    "import re\n",
    "import math\n",
    "import copy\n",
    "from sklearn.linear_model import LogisticRegression\n",
    "from sklearn.metrics import confusion_matrix, balanced_accuracy_score, cohen_kappa_score\n",
    "from sklearn.metrics import auc, roc_auc_score, roc_curve, precision_recall_curve, plot_precision_recall_curve\n",
    "from sklearn.model_selection import StratifiedShuffleSplit\n",
    "from sklearn.feature_selection import f_classif, mutual_info_classif\n",
    "from sklearn.model_selection import GridSearchCV\n",
    "from sklearn.model_selection import cross_val_score\n",
    "from sklearn.model_selection import cross_validate\n",
    "from mlxtend.feature_selection import ExhaustiveFeatureSelector as EFS\n",
    "from importlib import reload\n",
    "np.warnings.filterwarnings('ignore')\n",
    "\n",
    "print(os.listdir('./data'))\n",
    "PATH_to_file = './data/'"
   ]
  },
  {
   "cell_type": "code",
   "execution_count": 193,
   "metadata": {},
   "outputs": [
    {
     "name": "stderr",
     "output_type": "stream",
     "text": [
      "WARNING: Could not generate requirement for distribution -cikit-learn 0.20.3 (c:\\users\\an.ivanov\\appdata\\local\\continuum\\anaconda3\\lib\\site-packages): Parse error at \"'-cikit-l'\": Expected W:(abcd...)\n"
     ]
    }
   ],
   "source": [
    "RANDOM_SEED = 42\n",
    "!pip freeze > requirements.txt\n",
    "CURRENT_DATE = pd.to_datetime('09/11/2020')"
   ]
  },
  {
   "cell_type": "code",
   "execution_count": 194,
   "metadata": {},
   "outputs": [],
   "source": [
    "def result_EDA_feature(d_feature, d_train, d_test, d_n_cols, d_EDA_done_cols, d_old_len_train):\n",
    "    # записываем признак в список проанализированных признаков\n",
    "    d_EDA_done_cols.append(d_feature)\n",
    "    d_len_ = len(d_EDA_done_cols)\n",
    "    print(f'В результате после EDA признака:= {d_feature}, обработано признаков:= {d_len_}, осталось:= {d_n_cols-d_len_}')\n",
    "    # смотрим как ведет себя трейн\n",
    "    temp = len(d_train)\n",
    "    print('Кол-во строк в трейне:= ', temp, '. Убрали на данном шаге:= ', d_old_len_train-temp)\n",
    "    d_old_len_train = temp\n",
    "    # проверяем что мы случайно не испортили тест\n",
    "    print('Кол-во строк в тесте:= ', len(d_test))\n",
    "    return d_old_len_train, d_EDA_done_cols"
   ]
  },
  {
   "cell_type": "code",
   "execution_count": 195,
   "metadata": {},
   "outputs": [],
   "source": [
    "def nunique_not_found(d_df1, d_df2, d_col):\n",
    "\n",
    "    temp_set = set()\n",
    "    temp_set2 = set()\n",
    "    temp_set = set(d_df1[d_col].unique())\n",
    "    temp_set2 = set(d_df2[d_col].unique())\n",
    "\n",
    "    print(f'в столбце:= {d_col} в трейне НЕ НАЙДЕНО:= {len(temp_set2-temp_set)} уникальных значений из теста')\n",
    "\n",
    "    return list(temp_set2-temp_set)"
   ]
  },
  {
   "cell_type": "code",
   "execution_count": 196,
   "metadata": {},
   "outputs": [],
   "source": [
    "def check_df_before_merg(d_df1,d_df2):\n",
    "    \n",
    "    list_of_names1 = list(d_df1.columns)\n",
    "    temp_dict = {}\n",
    "    temp_dict['# уник_1'] = d_df1.nunique().values\n",
    "    temp_dict['в первой строке_1'] =d_df1.loc[0].values\n",
    "    temp_dict['тип_1'] = d_df1.dtypes\n",
    "    temp_dict['имя признака_1'] = list_of_names1\n",
    "    temp_df1 = pd.DataFrame.from_dict(temp_dict)\n",
    "    \n",
    "    \n",
    "    list_of_names2 = list(d_df2.columns)\n",
    "    temp_dict2 = {}\n",
    "    temp_dict2['имя признака_2'] = list_of_names2\n",
    "    temp_dict2['тип_2'] = d_df2.dtypes\n",
    "    temp_dict2['в первой строке_2'] =d_df2.loc[0].values\n",
    "    temp_dict2['# уник_2'] = d_df2.nunique().values\n",
    "    temp_df2 = pd.DataFrame.from_dict(temp_dict2)\n",
    "    \n",
    "    temp_df = pd.concat([temp_df1,temp_df2], axis=1, sort=False)\n",
    "    temp_df.reset_index(inplace = True)\n",
    "    del temp_df['index']\n",
    "    display(temp_df)\n",
    "\n",
    "    temp_dict3 = {}\n",
    "    temp_df3= pd.DataFrame(temp_df)\n",
    "    temp_list  = []\n",
    "    temp_list2  = []\n",
    "    temp_list3  = []\n",
    "    temp_list4  = []\n",
    "    temp_list5  = []\n",
    "\n",
    "    for i in range(len(temp_df)):\n",
    "        if str(temp_df3['тип_2'][i]) != str(temp_df3['тип_1'][i]):\n",
    "            temp_list.append(temp_df3['имя признака_1'][i])\n",
    "            temp_list2.append(temp_df3['имя признака_2'][i])\n",
    "            temp_list3.append(str(temp_df3['тип_1'][i]) + '!=' + str(temp_df3['тип_2'][i]))\n",
    "            temp_list4.append(i)\n",
    "        if temp_df3['# уник_2'][i]>0 and temp_df3['# уник_1'][i]/temp_df3['# уник_2'][i] > 2:\n",
    "            temp_list5.append(i)\n",
    "            \n",
    "    temp_dict3['index']= temp_list4\n",
    "    temp_dict3['имя признака_1']= temp_list\n",
    "    temp_dict3['не совпадают типы'] = temp_list3\n",
    "    temp_dict3['имя признака_2']= temp_list2\n",
    "\n",
    "    temp_df4 = pd.DataFrame.from_dict(temp_dict3)\n",
    "    temp_df4.set_index('index',inplace=True)\n",
    "\n",
    "    print(f'Резюме:\\n 1. Не совпали типы в:= {len(temp_df4)} столбцах\\n')\n",
    "    print(f'2. Уникальные значения заоблачно различаются в:= {len(temp_list5)} столбцах {temp_list5}')\n",
    "    display(temp_df4)\n",
    "\n",
    "\n",
    "\n",
    "    return"
   ]
  },
  {
   "cell_type": "code",
   "execution_count": 197,
   "metadata": {},
   "outputs": [],
   "source": [
    "def hbar_group_pivot_table(d_bodyType, \n",
    "                        d_group_col, \n",
    "                        d_df, \n",
    "                        d_year_start, \n",
    "                        d_year_end,\n",
    "                        d_my_font_scale):\n",
    "    temp_df = d_df.copy()\n",
    "    temp_df2 = temp_df[(temp_df['bodyType']==d_bodyType) & (temp_df['modelDate']>=d_year_start) & (temp_df['modelDate']<=d_year_end)]\n",
    "    \n",
    "\n",
    "    temp_pt_mean = pd.pivot_table(temp_df2, values =d_group_col, index =['bodyType','brand'], columns =['modelDate'],aggfunc = np.mean, margins=True)\n",
    "    temp_list = list(temp_pt_mean['All'][d_bodyType].index)\n",
    "\n",
    "    temp_pt_std = pd.pivot_table(temp_df2, values =d_group_col, index =['bodyType','brand'], columns =['modelDate'],aggfunc = np.std, margins=True)\n",
    "    temp_std = temp_pt_std['All'][d_bodyType]['BMW']\n",
    "    temp_mean = temp_pt_mean['All'][d_bodyType]['BMW']\n",
    "    a = temp_pt_mean['All'][d_bodyType]['BMW']-temp_std/2\n",
    "    b = temp_pt_mean['All'][d_bodyType]['BMW']+temp_std/2\n",
    "\n",
    "    temp_list2 = list(temp_pt_std['All'][d_bodyType].index)\n",
    "\n",
    "    temp_list_std =[]\n",
    "    list_overlapp_brands =[]\n",
    "    for brand in temp_list:\n",
    "        if brand in temp_list2:\n",
    "            std_ = temp_pt_std['All'][d_bodyType][brand]/2\n",
    "        else:\n",
    "            std_ = 0\n",
    "        temp_list_std.append(std_)\n",
    "        c = temp_pt_mean['All'][d_bodyType][brand] - std_\n",
    "        d = temp_pt_mean['All'][d_bodyType][brand] + std_\n",
    "        if brand != 'BMW' and ((b>=c and d>=a) or (a<=c and d<=b)):\n",
    "            list_overlapp_brands.append(brand)\n",
    "    \n",
    "    temp_std = temp_pt_std['All'][d_bodyType]['BMW']\n",
    "    temp_mean = temp_pt_mean['All'][d_bodyType]['BMW']\n",
    "\n",
    "    plt.style.use('seaborn-paper')\n",
    "    sns.set(font_scale=d_my_font_scale)\n",
    "    color_text = plt.get_cmap('PuBu')(0.85)\n",
    "    color_bar = plt.get_cmap('PuBu')(0.8)\n",
    "\n",
    "    plt.figure(figsize=(12, 6))\n",
    "    \n",
    "    plt.barh(temp_list, width=temp_pt_mean['All'][d_bodyType].values+temp_list_std, color =color_bar)\n",
    "    plt.barh(temp_list, width=temp_pt_mean['All'][d_bodyType].values, color ='red')\n",
    "    plt.barh(temp_list, width=temp_pt_mean['All'][d_bodyType].values-temp_list_std, color =color_bar)\n",
    "\n",
    "\n",
    "    plt.plot([temp_mean,temp_mean], [-1, len(temp_list)+1], color= 'red', label='среднее значение BMW', marker='.', lw=2, ls = '--')\n",
    "    plt.plot([temp_mean-temp_std/2,temp_mean-temp_std/2], [-1, len(temp_list)+1], color='grey', label='отклонение вниз на std/2', marker='.', lw=3)\n",
    "    plt.plot([temp_mean+temp_std/2,temp_mean+temp_std/2], [-1, len(temp_list)+1], color='blue', label='отклонение вверх на std/2', marker='.', lw=3)\n",
    "\n",
    "    plt.xlabel(d_group_col, fontsize=15, color = color_text)\n",
    "    plt.ylabel('brand', fontsize=15, color = color_text)\n",
    "    plt.title(f'Среднее и отклонение {d_group_col} сводной таблицы сгруппированной по {d_bodyType}. modelDate с {d_year_start} по {d_year_end}', color = color_text, fontsize=15)\n",
    "    plt.legend(loc=\"lower right\", fontsize=11)\n",
    "    # y_min_text = y_min +0.5*max(std_metric_train,std_metric_test)\n",
    "    plt.text(100, len(temp_list)-0.5, f'кол-во брендов авто попавших в сводную таблицу = {len(temp_list)} из 36 \\nкол-во брендов авто попадающих в область значений BMW = {len(list_overlapp_brands)} из 36', fontsize = 14)\n",
    "    plt.show()\n",
    "    print('Список релевантных брендов: ',*list_overlapp_brands)\n",
    "    return list_overlapp_brands"
   ]
  },
  {
   "cell_type": "code",
   "execution_count": 198,
   "metadata": {},
   "outputs": [],
   "source": [
    "def vis_cross_val_score(d_name_metric, d_vec, d_value_metric, d_my_font_scale):\n",
    "    num_folds = len(d_vec['train_score'])\n",
    "    avg_metric_train, std_metric_train = d_vec['train_score'].mean(), d_vec['train_score'].std()\n",
    "    avg_metric_test, std_metric_test = d_vec['test_score'].mean(), d_vec['test_score'].std()\n",
    "\n",
    "    plt.style.use('seaborn-paper')\n",
    "    sns.set(font_scale=d_my_font_scale)\n",
    "    color_text = plt.get_cmap('PuBu')(0.85)\n",
    "\n",
    "    plt.figure(figsize=(12, 6))\n",
    "    plt.plot(d_vec['train_score'], label='тренировочные значения', marker='.', color= 'darkblue')\n",
    "    plt.plot([0,num_folds-1], [avg_metric_train, avg_metric_train], color='blue', label='среднее трен. значений ', marker='.', lw=2, ls = '--')\n",
    "\n",
    "    plt.plot(d_vec['test_score'], label='тестовые значения', marker='.', color= 'red')\n",
    "    plt.plot([0,num_folds-1], [avg_metric_test, avg_metric_test], color='lightcoral', label='среднее тест. значений ', marker='.', lw=2, ls = '--')\n",
    "\n",
    "    plt.plot([0,num_folds-1], [d_value_metric, d_value_metric], color='grey', label='значение метрики до CV', marker='.', lw=3)\n",
    "\n",
    "    # plt.xlim([1, num_folds])\n",
    "    y_max = max(avg_metric_train,avg_metric_test) + 1.5*max(std_metric_train,std_metric_test)\n",
    "    y_min = min(avg_metric_train,avg_metric_test) - 3*max(std_metric_train,std_metric_test)\n",
    "    plt.ylim([y_min, y_max])\n",
    "    plt.xlabel('номер фолда', fontsize=15, color = color_text)\n",
    "    plt.ylabel(d_name_metric, fontsize=15, color = color_text)\n",
    "    plt.title(f'Кросс-валидация по метрике {d_name_metric} на {num_folds} фолдах', color = color_text, fontsize=17)\n",
    "    plt.legend(loc=\"lower right\", fontsize=11)\n",
    "    y_min_text = y_min +0.5*max(std_metric_train,std_metric_test)\n",
    "    plt.text(0, y_min_text, f'{d_name_metric} на трейне = {round(avg_metric_train,3)} +/- {round(std_metric_train,3)} \\n{d_name_metric} на тесте    = {round(avg_metric_test,3)} +/- {round(std_metric_test,3)} \\n{d_name_metric} до CV        = {round(d_value_metric,3)}', fontsize = 15)\n",
    "    plt.show()\n",
    "    return"
   ]
  },
  {
   "cell_type": "code",
   "execution_count": 199,
   "metadata": {},
   "outputs": [],
   "source": [
    "def model_coef(d_columns, d_model_coef_0):\n",
    "\n",
    "    temp_dict = {}\n",
    "    temp_dict['имя признака'] = d_columns\n",
    "    temp_dict['коэффициент модели'] = d_model_coef_0\n",
    "    temp_dict['модуль коэф'] = abs(temp_dict['коэффициент модели'])\n",
    "    temp_df = pd.DataFrame.from_dict(temp_dict, orient='columns')\n",
    "    temp_df = temp_df.sort_values(by='модуль коэф', ascending=False)\n",
    "    temp_df.reset_index(drop=True,inplace=True)\n",
    "    \n",
    "    return temp_df.loc[:,['имя признака','коэффициент модели']]"
   ]
  },
  {
   "cell_type": "code",
   "execution_count": 200,
   "metadata": {},
   "outputs": [],
   "source": [
    "def GridSearchCV_for_LogReg(d_X_train, d_y_train, d_values_for_C):\n",
    "    # Добавим типы регуляризации\n",
    "    penalty = ['l1', 'l2']\n",
    "\n",
    "    # Зададим ограничения для параметра регуляризации\n",
    "    C = np.array(d_values_for_C)\n",
    "\n",
    "    # Создадим гиперпараметры\n",
    "    hyperparameters = dict(C=C, penalty=penalty)\n",
    "\n",
    "    model = LogisticRegression(multi_class = 'ovr', class_weight='balanced')\n",
    "    model.fit(d_X_train, d_y_train)\n",
    "\n",
    "    # Создаем сетку поиска с использованием 5-кратной перекрестной проверки\n",
    "    clf = GridSearchCV(model, hyperparameters, cv=5, verbose=0, scoring='f1')\n",
    "\n",
    "    best_model = clf.fit(d_X_train, d_y_train)\n",
    "\n",
    "    # View best hyperparameters\n",
    "    temp_dict = {}\n",
    "    temp_dict['Penalty'] = [best_model.best_estimator_.get_params()['penalty']]\n",
    "    temp_dict['C'] = [best_model.best_estimator_.get_params()['C']]\n",
    "\n",
    "    # temp_dict['Признак'] = [best_model.best_index_]\n",
    "    # temp_list = sorted(clf.cv_results_.keys())\n",
    "    # temp_dict['Кол-во'] = [len(temp_list)]\n",
    "    temp_df = pd.DataFrame.from_dict(temp_dict, orient='index', columns=['Лучшие'])\n",
    "    display(temp_df)\n",
    "\n",
    "    temp_dict = {}\n",
    "    # temp_dict['Лучшие признаки'] = temp_list\n",
    "    # temp_df = pd.DataFrame.from_dict(temp_dict, orient='index')\n",
    "    # display(temp_df.T)\n",
    "\n",
    "\n",
    "    return"
   ]
  },
  {
   "cell_type": "code",
   "execution_count": 201,
   "metadata": {},
   "outputs": [],
   "source": [
    "def where_1_in_corr(d_df, d_y):\n",
    "\n",
    "    result = []\n",
    "    drop_list_columns = []\n",
    "    all_cols = list(d_df.columns)\n",
    "    for col in all_cols:\n",
    "        temp_list = d_df.index[d_df[col] == 1].tolist()\n",
    "        list1 = [x for x in temp_list if x not in [col]]\n",
    "        if list1 != []:\n",
    "            list1.append(col)\n",
    "            drop_list_columns.append(list1)\n",
    "    for i in range(len(drop_list_columns)//2):\n",
    "        result.append(drop_list_columns[i][0])\n",
    "    result= [x for x in result if x not in [d_y]]\n",
    "    return result"
   ]
  },
  {
   "cell_type": "code",
   "execution_count": 202,
   "metadata": {},
   "outputs": [],
   "source": [
    "def PR_curve_with_area(d_y_true, d_y_pred_prob, d_my_font_scale):\n",
    "    \n",
    "\n",
    "    plt.style.use('seaborn-paper')\n",
    "    sns.set(font_scale=d_my_font_scale)\n",
    "    # sns.set_color_codes(\"muted\")\n",
    "\n",
    "    plt.figure(figsize=(8, 6))\n",
    "    precision, recall, thresholds = precision_recall_curve(d_y_true, d_y_pred_prob, pos_label=1)\n",
    "    prc_auc_score_f = auc(recall, precision)\n",
    "    plt.plot(precision, recall, lw=3, label='площадь под PR кривой = %0.3f)' % prc_auc_score_f)\n",
    "    \n",
    "    plt.xlim([-.05, 1.0])\n",
    "    plt.ylim([-.05, 1.05])\n",
    "    plt.xlabel('Точность \\n Precision = TP/(TP+FP)')\n",
    "    plt.ylabel('Полнота \\n Recall = TP/P')\n",
    "    plt.title('Precision-Recall кривая')\n",
    "    plt.legend(loc=\"upper right\")\n",
    "    plt.show()\n",
    "    return"
   ]
  },
  {
   "cell_type": "code",
   "execution_count": 203,
   "metadata": {},
   "outputs": [],
   "source": [
    "def ROC_curve_with_area(d_y_true, d_y_pred_prob, d_my_font_scale):\n",
    "    roc_auc_score_f = roc_auc_score(d_y_true, d_y_pred_prob)\n",
    "\n",
    "    plt.style.use('seaborn-paper')\n",
    "    sns.set(font_scale=d_my_font_scale)\n",
    "    # sns.set_color_codes(\"muted\")\n",
    "\n",
    "    plt.figure(figsize=(8, 6))\n",
    "    fpr, tpr, thresholds = roc_curve(d_y_true, d_y_pred_prob, pos_label=1)\n",
    "\n",
    "    plt.plot(fpr, tpr, lw=3, label='площадь под ROC кривой = %0.3f)' % roc_auc_score_f)\n",
    "    plt.plot([0, 1], [0, 1], color='grey')\n",
    "    plt.xlim([-.05, 1.0])\n",
    "    plt.ylim([-.05, 1.05])\n",
    "    plt.xlabel('Ложно классифицированные \\n False Positive Rate (FPR)')\n",
    "    plt.ylabel('Верно классифицированные \\n True Positive Rate (TPR)')\n",
    "    plt.title('ROC кривая')\n",
    "    plt.legend(loc=\"lower right\")\n",
    "    plt.show()\n",
    "    return"
   ]
  },
  {
   "cell_type": "code",
   "execution_count": 204,
   "metadata": {},
   "outputs": [],
   "source": [
    "def test_last_pred(d_y_true, d_y_pred, d_y_pred_prob):\n",
    "    last_pred[0], last_pred[1], last_pred[2] = d_y_true, d_y_pred, d_y_pred_prob\n",
    "    return"
   ]
  },
  {
   "cell_type": "code",
   "execution_count": 205,
   "metadata": {},
   "outputs": [],
   "source": [
    "def all_metrics(d_y_true, d_y_pred, d_y_pred_prob):\n",
    "        \n",
    "    d_y_true_last, d_y_pred_last, d_y_pred_prob_last =  last_pred[0], last_pred[1], last_pred[2]\n",
    "    temp_dict = {}\n",
    "    temp1 = accuracy_score(d_y_true, d_y_pred)\n",
    "    temp2 = accuracy_score(d_y_true_last, d_y_pred_last)\n",
    "    temp_dict['accuracy'] = [temp1, temp2-temp1,'(TP+TN)/(P+N)']\n",
    "\n",
    "    temp1 = balanced_accuracy_score(d_y_true, d_y_pred)\n",
    "    temp2 = balanced_accuracy_score(d_y_true_last, d_y_pred_last)\n",
    "    temp_dict['balanced accuracy'] = [temp1, temp2-temp1,'сбалансированная accuracy']\n",
    "    \n",
    "    temp1 = precision_score(d_y_true, d_y_pred)\n",
    "    temp2 = precision_score(d_y_true_last, d_y_pred_last)\n",
    "    temp_dict['precision'] = [temp1, temp2-temp1,'точность = TP/(TP+FP)']\n",
    "    \n",
    "    temp1 = recall_score(d_y_true, d_y_pred)\n",
    "    temp2 = recall_score(d_y_true_last, d_y_pred_last)\n",
    "    temp_dict['recall'] = [temp1, temp2-temp1,'полнота = TP/P']\n",
    "    \n",
    "    temp1 = f1_score(d_y_true, d_y_pred)\n",
    "    temp2 = f1_score(d_y_true_last, d_y_pred_last)\n",
    "    temp_dict['f1_score'] = [temp1, temp2-temp1,'среднее гармоническое точности и полноты']\n",
    "    \n",
    "    temp1 = roc_auc_score(d_y_true, d_y_pred_prob)\n",
    "    temp2 = roc_auc_score(d_y_true_last, d_y_pred_prob_last)\n",
    "    temp_dict['roc_auc'] = [temp1, temp2-temp1,'Area Under Curve - Receiver Operating Characteristic']    \n",
    "    \n",
    "    temp_df = pd.DataFrame.from_dict(temp_dict, orient='index', columns=['Значение','Дельта с предыдущим','Описание'])\n",
    "    display(temp_df)\n",
    "\n",
    "    last_pred[0], last_pred[1], last_pred[2] = d_y_true, d_y_pred, d_y_pred_prob\n",
    "\n",
    "    return"
   ]
  },
  {
   "cell_type": "code",
   "execution_count": 206,
   "metadata": {},
   "outputs": [],
   "source": [
    "def plot_confusion_matrix(y_true, y_pred, d_my_font_scale, classes,\n",
    "                          normalize=False,\n",
    "                          title=None):\n",
    "    \"\"\"\n",
    "    This function prints and plots the confusion matrix.\n",
    "    Normalization can be applied by setting `normalize=True`.\n",
    "    \"\"\"\n",
    "\n",
    "    list_of_labels = [['TP','FP'],['FN','TN']]\n",
    "    \n",
    "    if not title:\n",
    "        if normalize:\n",
    "            title = 'Нормализованная матрица ошибок'\n",
    "        else:\n",
    "            title = 'Матрица ошибок без нормализации'\n",
    "\n",
    "    # Compute confusion matrix\n",
    "    cm = confusion_matrix(y_true, y_pred)\n",
    "\n",
    "    cm[0,0], cm[1,1] = cm[1,1], cm[0,0]\n",
    "\n",
    "    # # Only use the labels that appear in the data\n",
    "    # classes = classes[unique_labels(y_true, y_pred)]\n",
    "    if normalize:\n",
    "        cm = cm.astype('float') / cm.sum(axis=1)[:, np.newaxis]\n",
    "   \n",
    "\n",
    "    plt.style.use('seaborn-paper')\n",
    "    cmap=plt.cm.Blues\n",
    "    color_text = plt.get_cmap('PuBu')(0.85)\n",
    "\n",
    "    fig, ax = plt.subplots()\n",
    "    im = ax.imshow(cm, interpolation='nearest', cmap=cmap)\n",
    "    ax.figure.colorbar(im, ax=ax)\n",
    "    # We want to show all ticks...\n",
    "    ax.grid(False)\n",
    "    ax.set(xticks=np.arange(cm.shape[1]),\n",
    "           yticks=np.arange(cm.shape[0]),\n",
    "           # ... and label them with the respective list entries\n",
    "           \n",
    "           title=title)\n",
    "    ax.title.set_fontsize(15)\n",
    "    ax.set_ylabel('Предсказанные значения', fontsize=14, color = color_text)\n",
    "    ax.set_xlabel('Целевая переменная', fontsize=14, color = color_text)\n",
    "    ax.set_xticklabels(classes, fontsize=12, color = 'black')\n",
    "    ax.set_yticklabels(classes, fontsize=12, color = 'black')\n",
    "\n",
    "    # Rotate the tick labels and set their alignment.\n",
    "    plt.setp(ax.get_xticklabels(), rotation=45, ha=\"right\",\n",
    "             rotation_mode=\"anchor\")\n",
    "\n",
    "    # Loop over data dimensions and create text annotations.\n",
    "    fmt = '.2f' if normalize else 'd'\n",
    "    thresh = cm.max() / 2.\n",
    "    for i in range(cm.shape[0]):\n",
    "        for j in range(cm.shape[1]):\n",
    "            ax.text(j, i, list_of_labels[i][j]+'\\n'+format(cm[i, j], fmt),\n",
    "                    ha=\"center\", va=\"center\",\n",
    "                    color=\"white\" if cm[i, j] > thresh else \"black\")\n",
    "    fig.tight_layout()\n",
    "    return ax"
   ]
  },
  {
   "cell_type": "code",
   "execution_count": 207,
   "metadata": {},
   "outputs": [],
   "source": [
    "def confusion_matrix_f(d_name_columns, d_y, d_y_pred, d_my_font_scale, normalize=False):\n",
    "\n",
    "    class_names  = np.array(d_name_columns, dtype = 'U10')\n",
    "    # Plot non-normalized confusion matrix\n",
    "    plot_confusion_matrix(d_y, d_y_pred, d_my_font_scale, classes=class_names,\n",
    "                        title='Матрица ошибок без нормализации')\n",
    "\n",
    "    # Plot normalized confusion matrix\n",
    "    if normalize:\n",
    "        plot_confusion_matrix(d_y, d_y_pred, d_my_font_scale, classes=class_names, normalize=True,\n",
    "                        title='Нормализованная матрица ошибок')\n",
    "\n",
    "    plt.show()\n",
    "    return"
   ]
  },
  {
   "cell_type": "code",
   "execution_count": 208,
   "metadata": {},
   "outputs": [],
   "source": [
    "# функция для стандартизации\n",
    "def StandardScaler_column(d_df, d_col):\n",
    "    scaler = StandardScaler()\n",
    "    scaler.fit(d_df[[d_col]])\n",
    "    return scaler.transform(d_df[[d_col]])"
   ]
  },
  {
   "cell_type": "code",
   "execution_count": 209,
   "metadata": {},
   "outputs": [],
   "source": [
    "def StandardScaler_df_and_filna_0(d_df, d_columns):\n",
    "    # стандартизируем все столбцы кроме целевой и Sample\n",
    "    for i  in list(d_df[d_columns].columns):\n",
    "        d_df[i] = StandardScaler_column(d_df, i)\n",
    "        if len(d_df[d_df[i].isna()]) < len(d_df):\n",
    "            d_df[i] = d_df[i].fillna(d_df[i].min())\n",
    "    return"
   ]
  },
  {
   "cell_type": "code",
   "execution_count": 210,
   "metadata": {},
   "outputs": [],
   "source": [
    "def get_dummies_df(d_df, d_columns):\n",
    "    star_list_columns = list(d_df.columns)\n",
    "    # реализуем метод OneHotLabels через get_dummies\n",
    "    d_df = pd.get_dummies(d_df, columns=d_columns, drop_first=True)\n",
    "    # мы специально не удаляем первоначальные столбы, чтобы потом можно было провести построчную проверку перед стандартизацией и моделированием \n",
    "    end_list_columns = list(d_df.columns)\n",
    "    new_dumm_cat_cols = [x for x in end_list_columns if x  not in star_list_columns]\n",
    "\n",
    "    temp_dict = {}\n",
    "    temp_dict['имя НОВОГО добавленного признака'] = new_dumm_cat_cols\n",
    "    temp_dict['тип признака'] = d_df[new_dumm_cat_cols].dtypes\n",
    "    temp_df = pd.DataFrame.from_dict(temp_dict, orient='index')\n",
    "    display(temp_df.T)\n",
    "    return new_dumm_cat_cols"
   ]
  },
  {
   "cell_type": "code",
   "execution_count": 211,
   "metadata": {},
   "outputs": [],
   "source": [
    "def scatterplot_with_hist(d_name_column_x, d_name_column_y, d_df):\n",
    "    temp_df = d_df\n",
    "    # Create Fig and gridspec\n",
    "    fig = plt.figure(figsize=(12, 8), dpi= 80)\n",
    "    grid = plt.GridSpec(4, 4, hspace=0.5, wspace=0.2)\n",
    "\n",
    "    # Define the axes\n",
    "    ax_main = fig.add_subplot(grid[:-1, :-1])\n",
    "    ax_right = fig.add_subplot(grid[:-1, -1], xticklabels=[], yticklabels=[])\n",
    "    ax_bottom = fig.add_subplot(grid[-1, 0:-1], xticklabels=[], yticklabels=[])\n",
    "\n",
    "    # Scatterplot on main ax\n",
    "    ax_main.scatter(temp_df[d_name_column_x], temp_df[d_name_column_y], s=1, c=temp_df[d_name_column_y].astype('category').cat.codes)  #, , alpha=.9, data=df, cmap=\"tab10\", edgecolors='gray', linewidths=.5)\n",
    "\n",
    "    # histogram on the right\n",
    "    ax_bottom.hist(temp_df[d_name_column_x], 40, histtype='stepfilled', orientation='vertical', color='blue')\n",
    "    ax_bottom.invert_yaxis()\n",
    "\n",
    "    # histogram in the bottom\n",
    "    ax_right.hist(temp_df[d_name_column_y], 40, histtype='stepfilled', orientation='horizontal', color='blue')\n",
    "\n",
    "    # Decorations\n",
    "    ax_main.set(title='Scatterplot with Histograms \\n '+d_name_column_x+'vs'+ d_name_column_y, xlabel=d_name_column_x, ylabel=d_name_column_y)\n",
    "    ax_main.title.set_fontsize(20)\n",
    "    for item in ([ax_main.xaxis.label, ax_main.yaxis.label] + ax_main.get_xticklabels() + ax_main.get_yticklabels()):\n",
    "        item.set_fontsize(14)\n",
    "\n",
    "    xlabels = ax_main.get_xticks().tolist()\n",
    "    ax_main.set_xticklabels(xlabels)\n",
    "    plt.show()\n",
    "    return"
   ]
  },
  {
   "cell_type": "code",
   "execution_count": 212,
   "metadata": {},
   "outputs": [],
   "source": [
    "def four_plot_with_log(d_name_plot,d_df):\n",
    "    \n",
    "    plt.style.use('seaborn-paper')\n",
    "    plt.rcParams['figure.figsize'] = (12, 3)\n",
    "\n",
    "    _, axs = plt.subplots(1, 4)\n",
    "    temp_df = d_df\n",
    "    axs[0].hist(temp_df,bins=11)\n",
    "    axs[0].set_title(d_name_plot)\n",
    "    axs[1].boxplot(temp_df)\n",
    "    axs[1].set_title('')\n",
    "    temp_df = d_df.apply(lambda x: math.log(x+1))\n",
    "    axs[2].hist(temp_df,bins=11)\n",
    "    axs[2].set_title('log')\n",
    "    axs[3].boxplot(temp_df)\n",
    "    axs[3].set_title('')\n",
    "    return"
   ]
  },
  {
   "cell_type": "code",
   "execution_count": 213,
   "metadata": {},
   "outputs": [],
   "source": [
    "def four_plot_with_log2(d_name_column,d_df):\n",
    "    \n",
    "    plt.style.use('seaborn-paper')\n",
    "    plt.rcParams['figure.figsize'] = (12, 3)\n",
    "    color_text = plt.get_cmap('PuBu')(0.85)\n",
    "\n",
    "    \n",
    "    temp_df=d_df.copy()\n",
    "\n",
    "    fig = plt.figure()\n",
    "\n",
    "   \n",
    "    ax_1 = fig.add_subplot(1, 4, 1)\n",
    "    ax_2 = fig.add_subplot(1, 4, 2)\n",
    "    ax_3 = fig.add_subplot(1, 4, 3)\n",
    "    ax_4 = fig.add_subplot(1, 4, 4)\n",
    "\n",
    "    plt.suptitle(f'Гистограммы и box-plot для признака \\'{d_name_column}\\' и log({d_name_column})', fontsize=14, color = color_text, y=-0.02)\n",
    "\n",
    "    ax_1.hist(temp_df[d_name_column],bins=11)\n",
    "    ax_1.set_title(f'\\'{d_name_column}\\'', loc = 'right', fontsize=10, color = color_text)\n",
    "    ax_2.boxplot(temp_df[d_name_column])\n",
    "    \n",
    "    temp_name = 'log_'+d_name_column\n",
    "    temp_df.loc[:,temp_name] =  temp_df[d_name_column].apply(lambda x: math.log(x+1))\n",
    "\n",
    "    ax_3.hist(temp_df[temp_name],bins=11)\n",
    "    ax_3.set_title(f'log({d_name_column})', loc = 'right', fontsize=10, color = color_text)\n",
    "    ax_4.boxplot(temp_df[temp_name])\n",
    "\n",
    "    plt.show()\n",
    "    return"
   ]
  },
  {
   "cell_type": "code",
   "execution_count": 214,
   "metadata": {},
   "outputs": [],
   "source": [
    "def big_hist(d_name_column,d_df):\n",
    "    plt.style.use('seaborn-paper')\n",
    "    plt.rcParams['figure.figsize'] = (12, 3)\n",
    "\n",
    "    temp_df = d_df\n",
    "    temp_df[d_name_column].hist(bins=50)\n",
    "\n",
    "    return"
   ]
  },
  {
   "cell_type": "code",
   "execution_count": 215,
   "metadata": {},
   "outputs": [],
   "source": [
    "def big_hist_log(d_name_column,d_df):\n",
    "    \n",
    "    plt.style.use('seaborn-paper')\n",
    "    plt.rcParams['figure.figsize'] = (12, 3)\n",
    "\n",
    "    temp_df = d_df.copy()\n",
    "    temp_df['log_'+d_name_column] = temp_df[d_name_column].apply(lambda x: math.log(x+1))\n",
    "\n",
    "    temp_df['log_'+d_name_column].hist(bins=50)\n",
    "\n",
    "    return"
   ]
  },
  {
   "cell_type": "code",
   "execution_count": 216,
   "metadata": {},
   "outputs": [],
   "source": [
    "def borders_of_outliers(d_name_column,d_df, log = False):\n",
    "    \n",
    "    if log:\n",
    "        temp_df = d_df[d_name_column].apply(lambda x: math.log(x+1))\n",
    "    else:\n",
    "        temp_df = d_df[d_name_column]\n",
    "    IQR = temp_df.quantile(0.75) - temp_df.quantile(0.25)\n",
    "    perc25 = temp_df.quantile(0.25)\n",
    "    perc75 = temp_df.quantile(0.75)\n",
    "    left_border = perc25 - 1.5*IQR\n",
    "    right_border = perc75 + 1.5*IQR\n",
    "\n",
    "    temp_dict = {}\n",
    "    if log:\n",
    "        temp_dict['границы выбросов с логарифмом'] = [left_border, right_border]\n",
    "        temp_dict['границы выбросов без логарифма'] = [math.exp(left_border)-1, math.exp(right_border)-1]\n",
    "        count_values_left = (temp_df<left_border).sum()\n",
    "        count_values_right = (temp_df>right_border).sum()\n",
    "        temp_dict['кол-во значений за границей'] = [count_values_left, count_values_right]\n",
    "\n",
    "    else:\n",
    "        temp_dict['границы выбросов'] = [left_border, right_border]\n",
    "        count_values_left = (temp_df<left_border).sum()\n",
    "        count_values_right = (temp_df>right_border).sum()\n",
    "        temp_dict['кол-во значений за границей'] = [count_values_left, count_values_right]\n",
    "        \n",
    "    temp_df = pd.DataFrame.from_dict(temp_dict, orient='index', columns=['левая','правая'])\n",
    "    display(temp_df)\n",
    "    return "
   ]
  },
  {
   "cell_type": "code",
   "execution_count": 217,
   "metadata": {},
   "outputs": [],
   "source": [
    "def describe_with_hist(d_name_plot,d_df):\n",
    "    temp_describe = d_df.describe()\n",
    "    temp_dict = {}\n",
    "    temp_dict['кол-во строк'] = len(d_df)\n",
    "    temp_dict['тип значений'] = d_df.dtype\n",
    "    temp_dict['кол-во значений'] = temp_describe[0]\n",
    "    temp_dict['кол-во NaN'] = (d_df.isna()).sum()\n",
    "    temp_dict['среднее'] = temp_describe[1]\n",
    "    temp_dict['медиана'] = temp_describe[5]\n",
    "    temp_dict['мин'] = temp_describe[3]\n",
    "    temp_dict['макс'] = temp_describe[7]\n",
    "\n",
    "    temp_df = pd.DataFrame.from_dict(temp_dict, orient='index', columns=[d_name_plot])\n",
    "    display(temp_df)\n",
    "\n",
    "    plt.style.use('seaborn-paper')\n",
    "    plt.rcParams['figure.figsize'] = (4, 3)\n",
    "    n_bins = d_df.nunique()\n",
    "    if n_bins >15:\n",
    "        n_bins = 15\n",
    "    d_df.hist(bins=n_bins)\n",
    "    return"
   ]
  },
  {
   "cell_type": "code",
   "execution_count": 218,
   "metadata": {},
   "outputs": [],
   "source": [
    "def describe_without_plots(d_name_plot,d_df):\n",
    "    temp_describe = d_df.describe().copy()\n",
    "    temp_dict = {}\n",
    "    temp_dict['кол-во строк'] = len(d_df)\n",
    "    temp_dict['тип значений'] = d_df.dtype\n",
    "    temp_dict['кол-во значений'] = temp_describe[0]\n",
    "    temp_dict['кол-во NaN'] = (d_df.isna()).sum()\n",
    "    temp_dict['среднее'] = temp_describe[1]\n",
    "    temp_dict['медиана'] = temp_describe[5]\n",
    "    temp_dict['мин'] = temp_describe[3]\n",
    "    temp_dict['макс'] = temp_describe[7]\n",
    "\n",
    "    temp_df = pd.DataFrame.from_dict(temp_dict, orient='index', columns=[d_name_plot])\n",
    "    display(temp_df)\n",
    "\n",
    "    return"
   ]
  },
  {
   "cell_type": "code",
   "execution_count": 219,
   "metadata": {},
   "outputs": [],
   "source": [
    "def describe_without_plots_all_collumns(d_df, full=True, short=False):\n",
    "    list_of_names = list(d_df.columns)\n",
    "    temp_dict = {}\n",
    "    temp_dict['имя признака'] = list_of_names\n",
    "    temp_dict['тип'] = d_df.dtypes\n",
    "    temp_dict['# значений'] = d_df.describe(include='all').loc['count']\n",
    "    temp_dict['# пропусков(NaN)'] = d_df.isnull().sum().values \n",
    "    temp_dict['# уникальных'] = d_df.nunique().values\n",
    "    if not short:\n",
    "        temp_dict['в первой строке'] =d_df.loc[0].values\n",
    "        temp_dict['во второй строке'] = d_df.loc[1].values\n",
    "        temp_dict['в третьей строке'] = d_df.loc[2].values\n",
    "    if full :\n",
    "        temp_dict['минимум'] = d_df.describe(include='all').loc['min']\n",
    "        temp_dict['среднее'] = d_df.describe(include='all').loc['mean']\n",
    "        temp_dict['макс'] = d_df.describe(include='all').loc['max']\n",
    "        temp_dict['медиана'] = d_df.describe(include='all').loc['50%']\n",
    "    temp_df = pd.DataFrame.from_dict(temp_dict, orient='index')\n",
    "    display(temp_df.T)\n",
    "\n",
    "    return"
   ]
  },
  {
   "cell_type": "code",
   "execution_count": 220,
   "metadata": {},
   "outputs": [],
   "source": [
    "def classic_round(d_num):\n",
    "    return int(d_num + (0.5 if d_num > 0 else -0.5))"
   ]
  },
  {
   "cell_type": "code",
   "execution_count": 221,
   "metadata": {},
   "outputs": [],
   "source": [
    "def my_round(d_pred):\n",
    "    result = classic_round(d_pred*2)/2\n",
    "    if result <=5:\n",
    "        return result\n",
    "    else:\n",
    "        return 5"
   ]
  },
  {
   "cell_type": "code",
   "execution_count": 222,
   "metadata": {},
   "outputs": [],
   "source": [
    "def test_model(d_df,d_list_remove_columns, d_RS):\n",
    "    train_data = d_df.query('Sample == 1').drop(['Sample']+d_list_remove_columns, axis=1, errors='ignore')\n",
    "    test_data = d_df.query('Sample == 0').drop(['Sample']+d_list_remove_columns, axis=1, errors='ignore')\n",
    "\n",
    "    y = train_data.Rating.values\n",
    "    X = train_data.drop(['Rating'], axis=1)\n",
    "\n",
    "    X_train, X_test, y_train, y_test = train_test_split(X, y, test_size=0.2, random_state=d_RS)\n",
    "    print(test_data.shape, train_data.shape, X.shape, X_train.shape, X_test.shape)\n",
    "    model = RandomForestRegressor(n_estimators=100, verbose=1, n_jobs=-1, random_state=d_RS)\n",
    "    model.fit(X_train, y_train)\n",
    "\n",
    "    y_pred = model.predict(X_test)\n",
    "\n",
    "    my_vec_round = np.vectorize(my_round)\n",
    "    y_pred = my_vec_round(y_pred)\n",
    "    temp_MAE = metrics.mean_absolute_error(y_test, y_pred)\n",
    "\n",
    "    print(temp_MAE)\n",
    "    return"
   ]
  },
  {
   "cell_type": "code",
   "execution_count": 223,
   "metadata": {},
   "outputs": [],
   "source": [
    "def simple_plot_barh_procent(d_name_title, d_category_names, d_name_column, d_df):\n",
    "    \"\"\"\n",
    "    \n",
    "    \"\"\"\n",
    "    list_values = list(d_df[d_name_column].unique())\n",
    "    if len(d_category_names) != len(list_values):\n",
    "        return print('Кол-во категорий не совпадает с кол-вом значений')\n",
    "    else:\n",
    "        temp_df = d_df[d_name_column].value_counts(normalize=True)*100\n",
    "\n",
    "        plt.style.use('seaborn-paper')\n",
    "        _, ax = plt.subplots(figsize=(10, 2))\n",
    "        \n",
    "        category_colors = plt.get_cmap('PuBu')(\n",
    "                np.linspace(0.85, 0.35, len(list_values)))\n",
    "\n",
    "        widths = temp_df.values\n",
    "        starts = temp_df.cumsum() - widths\n",
    "        ax.barh(0, width = widths, left=starts, height=0.3, color=category_colors)\n",
    "        xcenters = starts + widths / 2\n",
    "        text_color = 'white'\n",
    "        for (x, w, c_n, k) in zip(xcenters, widths, d_category_names, temp_df.keys()):\n",
    "            ax.text(x,-0.05, str(int(w))+'%', fontsize=18, weight = 'bold', ha='center', va='center',\n",
    "                    color=text_color)\n",
    "            ax.text(x,0.05, c_n +'  ('+str(k)+')', fontsize=14, weight = 'bold', ha='center', va='center',\n",
    "                    color=text_color)\n",
    "        ax.set_title(d_name_title+' (критерий '+d_name_column+')', loc ='center', fontsize=12, color = category_colors[0])\n",
    "\n",
    "        plt.show()\n",
    "    return"
   ]
  },
  {
   "cell_type": "code",
   "execution_count": 224,
   "metadata": {},
   "outputs": [],
   "source": [
    "def simple_balalayka(d_category_names, \n",
    "                     d_name_column_base_x, \n",
    "                     d_name_column_group_y, \n",
    "                     d_df, \n",
    "                     d_my_font_scale):\n",
    "    \"\"\"\n",
    "    \n",
    "    \"\"\"\n",
    "    list_values = list(d_df[d_name_column_base_x].unique())\n",
    "    if len(d_category_names) != len(list_values):\n",
    "        return print('Кол-во категорий не совпадает с кол-вом значений')\n",
    "    else:\n",
    "        plt.style.use('seaborn-paper')\n",
    "        plt.subplots(figsize=(12, 4))\n",
    "        color_text = plt.get_cmap('PuBu')(0.85)\n",
    "\n",
    "        sns.set(font_scale=d_my_font_scale, style='whitegrid')\n",
    "        plt.subplot(111)\n",
    "        b = sns.swarmplot(x=d_name_column_base_x, y=d_name_column_group_y, data=d_df, label= d_name_column_base_x[0], palette=\"PuBu\")\n",
    "        b.set_title(f'Распределение {d_name_column_base_x} and {d_name_column_group_y}', \n",
    "                        fontsize=12, color = color_text)\n",
    "        b.set_ylabel(d_name_column_group_y, fontsize=14, color = color_text)\n",
    "        b.set_xlabel(d_name_column_base_x, fontsize=14, color = color_text)\n",
    "\n",
    "        b.legend(labels=d_category_names, ncol=2, fancybox=True, framealpha=0.75, shadow=True, bbox_to_anchor=(0.5, -0.3), loc='center')\n",
    "    return"
   ]
  },
  {
   "cell_type": "code",
   "execution_count": 225,
   "metadata": {},
   "outputs": [],
   "source": [
    "def simple_boxplot(d_category_names, \n",
    "                     d_name_column_base_x, \n",
    "                     d_name_column_group_y, \n",
    "                     d_df, \n",
    "                     d_my_font_scale,\n",
    "                     log = False):\n",
    "    \"\"\"\n",
    "    \n",
    "    \"\"\"\n",
    "    \n",
    "    list_values = list(d_df[d_name_column_base_x].unique())\n",
    "    if len(d_category_names) != len(list_values):\n",
    "        return print('Кол-во категорий не совпадает с кол-вом значений')\n",
    "    else:\n",
    "        temp_df = d_df\n",
    "        if log:\n",
    "            \n",
    "            temp_df[d_name_column_group_y] = temp_df[d_name_column_group_y].apply(lambda x: math.log(x+1))\n",
    "        \n",
    "        plt.style.use('seaborn-paper')\n",
    "        plt.subplots(figsize=(6, 4))\n",
    "        color_text = plt.get_cmap('PuBu')(0.85)\n",
    "\n",
    "        sns.set(font_scale=d_my_font_scale, style='whitegrid')\n",
    "        plt.subplot(111)\n",
    "        b = sns.boxplot(x=d_name_column_base_x, y=d_name_column_group_y, data=temp_df, palette=\"PuBu\")\n",
    "        b.set_title(f'boxplot распределения значений {d_name_column_base_x} по {d_name_column_group_y}', \n",
    "                        fontsize=12, color = color_text)\n",
    "        b.set_ylabel(d_name_column_group_y, fontsize=14, color = color_text)\n",
    "        b.set_xlabel(d_name_column_base_x, fontsize=14, color = color_text)\n",
    "\n",
    "        b.legend(labels=d_category_names, ncol=2, fancybox=True, framealpha=0.75, shadow=True, bbox_to_anchor=(0.5, -0.3), loc='center')\n",
    "    return"
   ]
  },
  {
   "cell_type": "code",
   "execution_count": 226,
   "metadata": {},
   "outputs": [],
   "source": [
    "def plot_filter_df_kde(d_category_names, \n",
    "                       d_name_column_filter, \n",
    "                       d_name_column_group_x, \n",
    "                       d_df,\n",
    "                       d_my_font_scale):\n",
    "    \"\"\"\n",
    "    \n",
    "    \"\"\"\n",
    "    list_values = list(d_df[d_name_column_filter].unique())\n",
    "    list_values = sorted(list_values)\n",
    "\n",
    "    if len(d_category_names) != len(list_values):\n",
    "        return print('Кол-во категорий не совпадает с кол-вом значений')\n",
    "    else:\n",
    "        for i in range(len(d_category_names)):\n",
    "            d_category_names[i] = d_category_names[i] + ' ('+str(list_values[i])+')'\n",
    "        plt.style.use('seaborn-paper')\n",
    "        plt.subplots(figsize=(6, 4))\n",
    "\n",
    "        category_colors = plt.get_cmap('PuBu')(np.linspace(0.85, 0.35, len(list_values)))\n",
    "        color_text = plt.get_cmap('PuBu')(0.85)\n",
    "\n",
    "        sns.set(font_scale=d_my_font_scale, style='whitegrid')\n",
    "        plt.subplot(111)\n",
    "        for x,i in zip(list_values, range(len(list_values))):\n",
    "            temp_df = d_df.loc[d_df[d_name_column_filter] == x, d_name_column_group_x]\n",
    "            k=sns.kdeplot(temp_df, color=category_colors[i], label=x)\n",
    "\n",
    "        k.set_title(f'Плотность распределений {d_name_column_group_x} с фильтрами по  {d_name_column_filter}', \n",
    "                        fontsize=12, color = color_text)\n",
    "        k.set_xlabel(d_name_column_group_x, fontsize=14, color = color_text)\n",
    "\n",
    "        k.legend(labels=d_category_names, ncol=len(list_values), fancybox=True, framealpha=0.75, shadow=True, bbox_to_anchor=(0.5, -0.3), loc='center')\n",
    "    return"
   ]
  },
  {
   "cell_type": "code",
   "execution_count": 227,
   "metadata": {},
   "outputs": [],
   "source": [
    "def group_plot_barv_mean(d_category_names, \n",
    "                         d_name_column_base_x, \n",
    "                         d_name_column_group_y, \n",
    "                         d_df,\n",
    "                         d_my_font_scale):\n",
    "    \"\"\"\n",
    "    \n",
    "    \"\"\"\n",
    "    list_values = list(d_df[d_name_column_base_x].unique())\n",
    "    if len(d_category_names) != len(list_values):\n",
    "        return print('Кол-во категорий не совпадает с кол-вом значений')\n",
    "    else:\n",
    "        temp_df = d_df.copy()\n",
    "        plt.style.use('seaborn-paper')\n",
    "        plt.subplots(figsize=(6, 4))\n",
    "        color_text = plt.get_cmap('PuBu')(0.85)\n",
    "        sns.set(font_scale=d_my_font_scale, style='whitegrid')\n",
    "\n",
    "        plt.subplot(111)\n",
    "        b = sns.barplot(x=d_name_column_base_x, y=d_name_column_group_y, data=temp_df, palette=\"PuBu\", ci=None, hue=d_name_column_base_x)\n",
    "\n",
    "        b.set_title(f'vplot распределения сред. знач. {d_name_column_group_y} сгруп-ные по {d_name_column_base_x}', \n",
    "                    fontsize=12, color = color_text)\n",
    "        b.set_ylabel(d_name_column_group_y, fontsize=14, color = color_text)\n",
    "        b.set_xlabel(d_name_column_base_x, fontsize=14, color = color_text)\n",
    "\n",
    "        b.legend(labels=d_category_names, ncol=2, fancybox=True, framealpha=0.75, shadow=True, bbox_to_anchor=(0.5, -0.3), loc='center')\n",
    "        \n",
    "    return"
   ]
  },
  {
   "cell_type": "code",
   "execution_count": 228,
   "metadata": {},
   "outputs": [],
   "source": [
    "def simple_heatmap(d_title, d_df, d_list_of_columns, d_my_font_scale, d_g, d_size):\n",
    "    \"\"\"\n",
    "    \n",
    "    \"\"\"\n",
    "    temp_df = d_df[d_list_of_columns].copy()\n",
    "\n",
    "    plt.style.use('seaborn-paper')\n",
    "    plt.subplots(figsize=(d_size, 6))\n",
    "    color_text = plt.get_cmap('PuBu')(0.85)\n",
    "    sns.set(font_scale=d_my_font_scale, style='whitegrid')\n",
    "\n",
    "    plt.subplot(111)\n",
    "    h = sns.heatmap(temp_df.corr(), annot = True, fmt=f'.{d_g}g', cmap= \"PuBu\", center= 0)\n",
    "    h.set_title(d_title,  fontsize=14, color = color_text)\n",
    "\n",
    "    return"
   ]
  },
  {
   "cell_type": "code",
   "execution_count": 229,
   "metadata": {},
   "outputs": [],
   "source": [
    "def binned(df, col_name, bins_no=11):\n",
    "    # df - имя датафрейма, col_name - наименование признака, который надо разбить на интервалы, \n",
    "    # bins - количество интервалов разбиения\n",
    "    # пример: data['age_binned'] = binned(data,'age',18)\n",
    "\n",
    "    if not pd.api.types.is_numeric_dtype(df[col_name]):\n",
    "        print(f'Признак {col_name} не численный, разбиение невозможно')\n",
    "        return\n",
    "    else:\n",
    "        # Вычисляем минимум и максимум разбиения\n",
    "        bottom = df[col_name].min()\n",
    "        top = df[col_name].max()\n",
    "        # Возвращаем признак, разбитый на интервалы\n",
    "        return pd.cut(df[col_name], bins = np.linspace(bottom, top, num = bins_no))"
   ]
  },
  {
   "cell_type": "code",
   "execution_count": 230,
   "metadata": {},
   "outputs": [],
   "source": [
    "def StandardScaler_FillNa_0(d_df):\n",
    "    return"
   ]
  },
  {
   "cell_type": "code",
   "execution_count": 231,
   "metadata": {},
   "outputs": [],
   "source": [
    "#if __name__ == \"__main__\":\n",
    "#    df_train = pd.read_csv('train.csv')\n",
    "#    df_test = pd.read_csv('test.csv')\n",
    "#    df_train['Train'] = 1 # помечаем где у нас трейн\n",
    "#    df_test['Train'] = 0 # помечаем где у нас тест\n",
    "#    df_test['Survived'] = 2 # в тесте у нас нет значения Survived, мы его должны предсказать, по этому пока просто заполняем двойками\n",
    "#    df = df_test.append(df_train, sort=False).reset_index(drop=True) # объединяем\n",
    "#    simple_plot_barh_procent('Распределение выживших и не выживших', ['Не выжили','Выжили'], 'Survived',df[df['Train']==1])\n",
    "#    simple_balalayka(['Не выжили','Выжили'], 'Survived', 'Age',df[df['Train']==1], 1.5)\n",
    "#\n",
    "# %%"
   ]
  },
  {
   "cell_type": "markdown",
   "metadata": {},
   "source": [
    "## 2. Импорт данных"
   ]
  },
  {
   "cell_type": "code",
   "execution_count": 232,
   "metadata": {},
   "outputs": [
    {
     "name": "stdout",
     "output_type": "stream",
     "text": [
      "Размерность тренировочного датасета:  (73799, 19)\n"
     ]
    },
    {
     "data": {
      "text/html": [
       "<div>\n",
       "<style scoped>\n",
       "    .dataframe tbody tr th:only-of-type {\n",
       "        vertical-align: middle;\n",
       "    }\n",
       "\n",
       "    .dataframe tbody tr th {\n",
       "        vertical-align: top;\n",
       "    }\n",
       "\n",
       "    .dataframe thead th {\n",
       "        text-align: right;\n",
       "    }\n",
       "</style>\n",
       "<table border=\"1\" class=\"dataframe\">\n",
       "  <thead>\n",
       "    <tr style=\"text-align: right;\">\n",
       "      <th></th>\n",
       "      <th>client_id</th>\n",
       "      <th>app_date</th>\n",
       "      <th>education</th>\n",
       "      <th>sex</th>\n",
       "      <th>age</th>\n",
       "      <th>car</th>\n",
       "      <th>car_type</th>\n",
       "      <th>decline_app_cnt</th>\n",
       "      <th>good_work</th>\n",
       "      <th>score_bki</th>\n",
       "      <th>bki_request_cnt</th>\n",
       "      <th>region_rating</th>\n",
       "      <th>home_address</th>\n",
       "      <th>work_address</th>\n",
       "      <th>income</th>\n",
       "      <th>sna</th>\n",
       "      <th>first_time</th>\n",
       "      <th>foreign_passport</th>\n",
       "      <th>default</th>\n",
       "    </tr>\n",
       "  </thead>\n",
       "  <tbody>\n",
       "    <tr>\n",
       "      <th>0</th>\n",
       "      <td>25905</td>\n",
       "      <td>01FEB2014</td>\n",
       "      <td>SCH</td>\n",
       "      <td>M</td>\n",
       "      <td>62</td>\n",
       "      <td>Y</td>\n",
       "      <td>Y</td>\n",
       "      <td>0</td>\n",
       "      <td>0</td>\n",
       "      <td>-2.008753</td>\n",
       "      <td>1</td>\n",
       "      <td>50</td>\n",
       "      <td>1</td>\n",
       "      <td>2</td>\n",
       "      <td>18000</td>\n",
       "      <td>4</td>\n",
       "      <td>1</td>\n",
       "      <td>N</td>\n",
       "      <td>0</td>\n",
       "    </tr>\n",
       "    <tr>\n",
       "      <th>1</th>\n",
       "      <td>63161</td>\n",
       "      <td>12MAR2014</td>\n",
       "      <td>SCH</td>\n",
       "      <td>F</td>\n",
       "      <td>59</td>\n",
       "      <td>N</td>\n",
       "      <td>N</td>\n",
       "      <td>0</td>\n",
       "      <td>0</td>\n",
       "      <td>-1.532276</td>\n",
       "      <td>3</td>\n",
       "      <td>50</td>\n",
       "      <td>2</td>\n",
       "      <td>3</td>\n",
       "      <td>19000</td>\n",
       "      <td>4</td>\n",
       "      <td>1</td>\n",
       "      <td>N</td>\n",
       "      <td>0</td>\n",
       "    </tr>\n",
       "  </tbody>\n",
       "</table>\n",
       "</div>"
      ],
      "text/plain": [
       "   client_id   app_date education sex  age car car_type  decline_app_cnt  \\\n",
       "0      25905  01FEB2014       SCH   M   62   Y        Y                0   \n",
       "1      63161  12MAR2014       SCH   F   59   N        N                0   \n",
       "\n",
       "   good_work  score_bki  bki_request_cnt  region_rating  home_address  \\\n",
       "0          0  -2.008753                1             50             1   \n",
       "1          0  -1.532276                3             50             2   \n",
       "\n",
       "   work_address  income  sna  first_time foreign_passport  default  \n",
       "0             2   18000    4           1                N        0  \n",
       "1             3   19000    4           1                N        0  "
      ]
     },
     "metadata": {},
     "output_type": "display_data"
    },
    {
     "name": "stdout",
     "output_type": "stream",
     "text": [
      "Размерность тестового датасета:  (36349, 18)\n"
     ]
    },
    {
     "data": {
      "text/html": [
       "<div>\n",
       "<style scoped>\n",
       "    .dataframe tbody tr th:only-of-type {\n",
       "        vertical-align: middle;\n",
       "    }\n",
       "\n",
       "    .dataframe tbody tr th {\n",
       "        vertical-align: top;\n",
       "    }\n",
       "\n",
       "    .dataframe thead th {\n",
       "        text-align: right;\n",
       "    }\n",
       "</style>\n",
       "<table border=\"1\" class=\"dataframe\">\n",
       "  <thead>\n",
       "    <tr style=\"text-align: right;\">\n",
       "      <th></th>\n",
       "      <th>client_id</th>\n",
       "      <th>app_date</th>\n",
       "      <th>education</th>\n",
       "      <th>sex</th>\n",
       "      <th>age</th>\n",
       "      <th>car</th>\n",
       "      <th>car_type</th>\n",
       "      <th>decline_app_cnt</th>\n",
       "      <th>good_work</th>\n",
       "      <th>score_bki</th>\n",
       "      <th>bki_request_cnt</th>\n",
       "      <th>region_rating</th>\n",
       "      <th>home_address</th>\n",
       "      <th>work_address</th>\n",
       "      <th>income</th>\n",
       "      <th>sna</th>\n",
       "      <th>first_time</th>\n",
       "      <th>foreign_passport</th>\n",
       "    </tr>\n",
       "  </thead>\n",
       "  <tbody>\n",
       "    <tr>\n",
       "      <th>0</th>\n",
       "      <td>74835</td>\n",
       "      <td>22MAR2014</td>\n",
       "      <td>GRD</td>\n",
       "      <td>M</td>\n",
       "      <td>29</td>\n",
       "      <td>Y</td>\n",
       "      <td>Y</td>\n",
       "      <td>0</td>\n",
       "      <td>0</td>\n",
       "      <td>-2.271884</td>\n",
       "      <td>3</td>\n",
       "      <td>50</td>\n",
       "      <td>1</td>\n",
       "      <td>2</td>\n",
       "      <td>50000</td>\n",
       "      <td>1</td>\n",
       "      <td>4</td>\n",
       "      <td>N</td>\n",
       "    </tr>\n",
       "    <tr>\n",
       "      <th>1</th>\n",
       "      <td>17527</td>\n",
       "      <td>24JAN2014</td>\n",
       "      <td>SCH</td>\n",
       "      <td>F</td>\n",
       "      <td>39</td>\n",
       "      <td>N</td>\n",
       "      <td>N</td>\n",
       "      <td>5</td>\n",
       "      <td>0</td>\n",
       "      <td>-1.504999</td>\n",
       "      <td>2</td>\n",
       "      <td>50</td>\n",
       "      <td>1</td>\n",
       "      <td>2</td>\n",
       "      <td>5000</td>\n",
       "      <td>4</td>\n",
       "      <td>3</td>\n",
       "      <td>N</td>\n",
       "    </tr>\n",
       "  </tbody>\n",
       "</table>\n",
       "</div>"
      ],
      "text/plain": [
       "   client_id   app_date education sex  age car car_type  decline_app_cnt  \\\n",
       "0      74835  22MAR2014       GRD   M   29   Y        Y                0   \n",
       "1      17527  24JAN2014       SCH   F   39   N        N                5   \n",
       "\n",
       "   good_work  score_bki  bki_request_cnt  region_rating  home_address  \\\n",
       "0          0  -2.271884                3             50             1   \n",
       "1          0  -1.504999                2             50             1   \n",
       "\n",
       "   work_address  income  sna  first_time foreign_passport  \n",
       "0             2   50000    1           4                N  \n",
       "1             2    5000    4           3                N  "
      ]
     },
     "metadata": {},
     "output_type": "display_data"
    }
   ],
   "source": [
    "df_train = pd.read_csv(PATH_to_file+'train.csv')\n",
    "df_test = pd.read_csv(PATH_to_file+'test.csv')\n",
    "pd.set_option('display.max_columns', None)\n",
    "print('Размерность тренировочного датасета: ', df_train.shape)\n",
    "display(df_train.head(2))\n",
    "print('Размерность тестового датасета: ', df_test.shape)\n",
    "display(df_test.head(2))"
   ]
  },
  {
   "cell_type": "code",
   "execution_count": 233,
   "metadata": {},
   "outputs": [],
   "source": [
    "# ВАЖНО! для корректной обработки признаков объединяем трейн и тест в один датасет\n",
    "df_train['Train'] = 1 # помечаем где у нас трейн\n",
    "df_test['Train'] = 0 # помечаем где у нас тест\n",
    "\n",
    "df = df_train.append(df_test, sort=False).reset_index(drop=True) # объединяем\n",
    "#!Обратите внимание объединение датасетов является потенциальной опасностью для даталиков"
   ]
  },
  {
   "cell_type": "markdown",
   "metadata": {},
   "source": [
    "## 3. Предварительный анализ данных"
   ]
  },
  {
   "cell_type": "code",
   "execution_count": 234,
   "metadata": {},
   "outputs": [],
   "source": [
    "# анализ тренировочной части\n",
    "# pandas_profiling.ProfileReport(df[df['Train']==1])"
   ]
  },
  {
   "cell_type": "code",
   "execution_count": 235,
   "metadata": {
    "scrolled": true
   },
   "outputs": [],
   "source": [
    "# анализ валидационной части\n",
    "# pandas_profiling.ProfileReport(df[df['Train']==0])"
   ]
  },
  {
   "cell_type": "code",
   "execution_count": 236,
   "metadata": {
    "scrolled": true
   },
   "outputs": [
    {
     "data": {
      "text/html": [
       "<div>\n",
       "<style scoped>\n",
       "    .dataframe tbody tr th:only-of-type {\n",
       "        vertical-align: middle;\n",
       "    }\n",
       "\n",
       "    .dataframe tbody tr th {\n",
       "        vertical-align: top;\n",
       "    }\n",
       "\n",
       "    .dataframe thead th {\n",
       "        text-align: right;\n",
       "    }\n",
       "</style>\n",
       "<table border=\"1\" class=\"dataframe\">\n",
       "  <thead>\n",
       "    <tr style=\"text-align: right;\">\n",
       "      <th></th>\n",
       "      <th>имя признака</th>\n",
       "      <th>тип</th>\n",
       "      <th># значений</th>\n",
       "      <th># пропусков(NaN)</th>\n",
       "      <th># уникальных</th>\n",
       "      <th>минимум</th>\n",
       "      <th>среднее</th>\n",
       "      <th>макс</th>\n",
       "      <th>медиана</th>\n",
       "    </tr>\n",
       "  </thead>\n",
       "  <tbody>\n",
       "    <tr>\n",
       "      <th>0</th>\n",
       "      <td>client_id</td>\n",
       "      <td>int64</td>\n",
       "      <td>73799</td>\n",
       "      <td>0</td>\n",
       "      <td>73799</td>\n",
       "      <td>1</td>\n",
       "      <td>55138</td>\n",
       "      <td>110147</td>\n",
       "      <td>55274</td>\n",
       "    </tr>\n",
       "    <tr>\n",
       "      <th>1</th>\n",
       "      <td>app_date</td>\n",
       "      <td>object</td>\n",
       "      <td>73799</td>\n",
       "      <td>0</td>\n",
       "      <td>120</td>\n",
       "      <td>NaN</td>\n",
       "      <td>NaN</td>\n",
       "      <td>NaN</td>\n",
       "      <td>NaN</td>\n",
       "    </tr>\n",
       "    <tr>\n",
       "      <th>2</th>\n",
       "      <td>education</td>\n",
       "      <td>object</td>\n",
       "      <td>73492</td>\n",
       "      <td>307</td>\n",
       "      <td>5</td>\n",
       "      <td>NaN</td>\n",
       "      <td>NaN</td>\n",
       "      <td>NaN</td>\n",
       "      <td>NaN</td>\n",
       "    </tr>\n",
       "    <tr>\n",
       "      <th>3</th>\n",
       "      <td>sex</td>\n",
       "      <td>object</td>\n",
       "      <td>73799</td>\n",
       "      <td>0</td>\n",
       "      <td>2</td>\n",
       "      <td>NaN</td>\n",
       "      <td>NaN</td>\n",
       "      <td>NaN</td>\n",
       "      <td>NaN</td>\n",
       "    </tr>\n",
       "    <tr>\n",
       "      <th>4</th>\n",
       "      <td>age</td>\n",
       "      <td>int64</td>\n",
       "      <td>73799</td>\n",
       "      <td>0</td>\n",
       "      <td>52</td>\n",
       "      <td>21</td>\n",
       "      <td>39.2806</td>\n",
       "      <td>72</td>\n",
       "      <td>37</td>\n",
       "    </tr>\n",
       "    <tr>\n",
       "      <th>5</th>\n",
       "      <td>car</td>\n",
       "      <td>object</td>\n",
       "      <td>73799</td>\n",
       "      <td>0</td>\n",
       "      <td>2</td>\n",
       "      <td>NaN</td>\n",
       "      <td>NaN</td>\n",
       "      <td>NaN</td>\n",
       "      <td>NaN</td>\n",
       "    </tr>\n",
       "    <tr>\n",
       "      <th>6</th>\n",
       "      <td>car_type</td>\n",
       "      <td>object</td>\n",
       "      <td>73799</td>\n",
       "      <td>0</td>\n",
       "      <td>2</td>\n",
       "      <td>NaN</td>\n",
       "      <td>NaN</td>\n",
       "      <td>NaN</td>\n",
       "      <td>NaN</td>\n",
       "    </tr>\n",
       "    <tr>\n",
       "      <th>7</th>\n",
       "      <td>decline_app_cnt</td>\n",
       "      <td>int64</td>\n",
       "      <td>73799</td>\n",
       "      <td>0</td>\n",
       "      <td>21</td>\n",
       "      <td>0</td>\n",
       "      <td>0.275749</td>\n",
       "      <td>33</td>\n",
       "      <td>0</td>\n",
       "    </tr>\n",
       "    <tr>\n",
       "      <th>8</th>\n",
       "      <td>good_work</td>\n",
       "      <td>int64</td>\n",
       "      <td>73799</td>\n",
       "      <td>0</td>\n",
       "      <td>2</td>\n",
       "      <td>0</td>\n",
       "      <td>0.164894</td>\n",
       "      <td>1</td>\n",
       "      <td>0</td>\n",
       "    </tr>\n",
       "    <tr>\n",
       "      <th>9</th>\n",
       "      <td>score_bki</td>\n",
       "      <td>float64</td>\n",
       "      <td>73799</td>\n",
       "      <td>0</td>\n",
       "      <td>69096</td>\n",
       "      <td>-3.62459</td>\n",
       "      <td>-1.90472</td>\n",
       "      <td>0.199773</td>\n",
       "      <td>-1.92082</td>\n",
       "    </tr>\n",
       "    <tr>\n",
       "      <th>10</th>\n",
       "      <td>bki_request_cnt</td>\n",
       "      <td>int64</td>\n",
       "      <td>73799</td>\n",
       "      <td>0</td>\n",
       "      <td>38</td>\n",
       "      <td>0</td>\n",
       "      <td>2.00034</td>\n",
       "      <td>53</td>\n",
       "      <td>1</td>\n",
       "    </tr>\n",
       "    <tr>\n",
       "      <th>11</th>\n",
       "      <td>region_rating</td>\n",
       "      <td>int64</td>\n",
       "      <td>73799</td>\n",
       "      <td>0</td>\n",
       "      <td>7</td>\n",
       "      <td>20</td>\n",
       "      <td>56.7257</td>\n",
       "      <td>80</td>\n",
       "      <td>50</td>\n",
       "    </tr>\n",
       "    <tr>\n",
       "      <th>12</th>\n",
       "      <td>home_address</td>\n",
       "      <td>int64</td>\n",
       "      <td>73799</td>\n",
       "      <td>0</td>\n",
       "      <td>3</td>\n",
       "      <td>1</td>\n",
       "      <td>1.57551</td>\n",
       "      <td>3</td>\n",
       "      <td>2</td>\n",
       "    </tr>\n",
       "    <tr>\n",
       "      <th>13</th>\n",
       "      <td>work_address</td>\n",
       "      <td>int64</td>\n",
       "      <td>73799</td>\n",
       "      <td>0</td>\n",
       "      <td>3</td>\n",
       "      <td>1</td>\n",
       "      <td>2.49628</td>\n",
       "      <td>3</td>\n",
       "      <td>3</td>\n",
       "    </tr>\n",
       "    <tr>\n",
       "      <th>14</th>\n",
       "      <td>income</td>\n",
       "      <td>int64</td>\n",
       "      <td>73799</td>\n",
       "      <td>0</td>\n",
       "      <td>966</td>\n",
       "      <td>1000</td>\n",
       "      <td>41099.8</td>\n",
       "      <td>1e+06</td>\n",
       "      <td>30000</td>\n",
       "    </tr>\n",
       "    <tr>\n",
       "      <th>15</th>\n",
       "      <td>sna</td>\n",
       "      <td>int64</td>\n",
       "      <td>73799</td>\n",
       "      <td>0</td>\n",
       "      <td>4</td>\n",
       "      <td>1</td>\n",
       "      <td>1.73333</td>\n",
       "      <td>4</td>\n",
       "      <td>1</td>\n",
       "    </tr>\n",
       "    <tr>\n",
       "      <th>16</th>\n",
       "      <td>first_time</td>\n",
       "      <td>int64</td>\n",
       "      <td>73799</td>\n",
       "      <td>0</td>\n",
       "      <td>4</td>\n",
       "      <td>1</td>\n",
       "      <td>2.76546</td>\n",
       "      <td>4</td>\n",
       "      <td>3</td>\n",
       "    </tr>\n",
       "    <tr>\n",
       "      <th>17</th>\n",
       "      <td>foreign_passport</td>\n",
       "      <td>object</td>\n",
       "      <td>73799</td>\n",
       "      <td>0</td>\n",
       "      <td>2</td>\n",
       "      <td>NaN</td>\n",
       "      <td>NaN</td>\n",
       "      <td>NaN</td>\n",
       "      <td>NaN</td>\n",
       "    </tr>\n",
       "    <tr>\n",
       "      <th>18</th>\n",
       "      <td>default</td>\n",
       "      <td>float64</td>\n",
       "      <td>73799</td>\n",
       "      <td>0</td>\n",
       "      <td>2</td>\n",
       "      <td>0</td>\n",
       "      <td>0.126994</td>\n",
       "      <td>1</td>\n",
       "      <td>0</td>\n",
       "    </tr>\n",
       "    <tr>\n",
       "      <th>19</th>\n",
       "      <td>Train</td>\n",
       "      <td>int64</td>\n",
       "      <td>73799</td>\n",
       "      <td>0</td>\n",
       "      <td>1</td>\n",
       "      <td>1</td>\n",
       "      <td>1</td>\n",
       "      <td>1</td>\n",
       "      <td>1</td>\n",
       "    </tr>\n",
       "  </tbody>\n",
       "</table>\n",
       "</div>"
      ],
      "text/plain": [
       "        имя признака      тип # значений # пропусков(NaN) # уникальных  \\\n",
       "0          client_id    int64      73799                0        73799   \n",
       "1           app_date   object      73799                0          120   \n",
       "2          education   object      73492              307            5   \n",
       "3                sex   object      73799                0            2   \n",
       "4                age    int64      73799                0           52   \n",
       "5                car   object      73799                0            2   \n",
       "6           car_type   object      73799                0            2   \n",
       "7    decline_app_cnt    int64      73799                0           21   \n",
       "8          good_work    int64      73799                0            2   \n",
       "9          score_bki  float64      73799                0        69096   \n",
       "10   bki_request_cnt    int64      73799                0           38   \n",
       "11     region_rating    int64      73799                0            7   \n",
       "12      home_address    int64      73799                0            3   \n",
       "13      work_address    int64      73799                0            3   \n",
       "14            income    int64      73799                0          966   \n",
       "15               sna    int64      73799                0            4   \n",
       "16        first_time    int64      73799                0            4   \n",
       "17  foreign_passport   object      73799                0            2   \n",
       "18           default  float64      73799                0            2   \n",
       "19             Train    int64      73799                0            1   \n",
       "\n",
       "    минимум   среднее      макс  медиана  \n",
       "0         1     55138    110147    55274  \n",
       "1       NaN       NaN       NaN      NaN  \n",
       "2       NaN       NaN       NaN      NaN  \n",
       "3       NaN       NaN       NaN      NaN  \n",
       "4        21   39.2806        72       37  \n",
       "5       NaN       NaN       NaN      NaN  \n",
       "6       NaN       NaN       NaN      NaN  \n",
       "7         0  0.275749        33        0  \n",
       "8         0  0.164894         1        0  \n",
       "9  -3.62459  -1.90472  0.199773 -1.92082  \n",
       "10        0   2.00034        53        1  \n",
       "11       20   56.7257        80       50  \n",
       "12        1   1.57551         3        2  \n",
       "13        1   2.49628         3        3  \n",
       "14     1000   41099.8     1e+06    30000  \n",
       "15        1   1.73333         4        1  \n",
       "16        1   2.76546         4        3  \n",
       "17      NaN       NaN       NaN      NaN  \n",
       "18        0  0.126994         1        0  \n",
       "19        1         1         1        1  "
      ]
     },
     "metadata": {},
     "output_type": "display_data"
    }
   ],
   "source": [
    "# выведем сводную информацию по датасету df без теста и теста kaggle\n",
    "describe_without_plots_all_collumns(df[df['Train']==1], short=True)"
   ]
  },
  {
   "cell_type": "markdown",
   "metadata": {},
   "source": [
    "Резюме по предварительному анализу: в тренировочной выборке 73799 клиентов, в тестовой - 36349. Всего данные о 110148 клиентах. Всего 20 переменных, из них 1 - временной ряд, 6 бинарных, 7 категориальных и 8 числовых. Всего пропусков 272 (0.4%), все пропуски в переменной education. client_id уникальный числовой признак, который не несет полезностей. В бинарных признаках наше целевая переменная default и искуственно добавленный признак тренировочной части датасета Train\n",
    "\n",
    "Описания полей датасета\n",
    "\n",
    "client_id - идентификатор клиента\n",
    "education - уровень образования\n",
    "sex - пол заемщика\n",
    "age - возраст заемщика\n",
    "car - флаг наличия автомобиля\n",
    "car_type - флаг автомобиля иномарки\n",
    "decline_app_cnt - количество отказанных прошлых заявок\n",
    "good_work - флаг наличия “хорошей” работы\n",
    "bki_request_cnt - количество запросов в БКИ\n",
    "home_address - категоризатор домашнего адреса\n",
    "work_address - категоризатор рабочего адреса\n",
    "income - доход заемщика\n",
    "foreign_passport - наличие загранпаспорта\n",
    "sna - связь заемщика с клиентами банка\n",
    "first_time - давность наличия информации о заемщике\n",
    "score_bki - скоринговый балл по данным из БКИ\n",
    "region_rating - рейтинг региона\n",
    "app_date - дата подачи заявки\n",
    "default - флаг дефолта по кредиту"
   ]
  },
  {
   "cell_type": "code",
   "execution_count": 237,
   "metadata": {},
   "outputs": [],
   "source": [
    "# внесем данные из резюме в списки \n",
    "# временной ряд (1)\n",
    "time_cols = ['app_date']\n",
    "# бинарные переменные (default не включаем в список) (5+1 = 6)\n",
    "bin_cols = ['sex', 'car', 'car_type', 'good_work', 'foreign_passport']\n",
    "# категориальные переменные (Train не включаем в список, так как мы сами его добавили) (3+1=4)\n",
    "cat_cols = ['education', 'work_address', 'home_address']\n",
    "# числовые переменные, client_id исключили из списка (8)\n",
    "num_cols = ['age', 'decline_app_cnt', 'bki_request_cnt', 'income', 'score_bki', 'sna', 'first_time', 'region_rating']\n",
    "# client_id не включаем в списки"
   ]
  },
  {
   "cell_type": "markdown",
   "metadata": {},
   "source": [
    "## 4. Детальный анализ по переменным"
   ]
  },
  {
   "cell_type": "markdown",
   "metadata": {},
   "source": [
    "Начнем с числовых переменных"
   ]
  },
  {
   "cell_type": "code",
   "execution_count": 238,
   "metadata": {
    "scrolled": true
   },
   "outputs": [
    {
     "data": {
      "image/png": "[encoded data removed]",
      "text/plain": [
       "<Figure size 864x216 with 4 Axes>"
      ]
     },
     "metadata": {
      "needs_background": "light"
     },
     "output_type": "display_data"
    }
   ],
   "source": [
    "four_plot_with_log2('age', df[df['Train']==1])"
   ]
  },
  {
   "cell_type": "code",
   "execution_count": 239,
   "metadata": {},
   "outputs": [
    {
     "data": {
      "text/html": [
       "<div>\n",
       "<style scoped>\n",
       "    .dataframe tbody tr th:only-of-type {\n",
       "        vertical-align: middle;\n",
       "    }\n",
       "\n",
       "    .dataframe tbody tr th {\n",
       "        vertical-align: top;\n",
       "    }\n",
       "\n",
       "    .dataframe thead th {\n",
       "        text-align: right;\n",
       "    }\n",
       "</style>\n",
       "<table border=\"1\" class=\"dataframe\">\n",
       "  <thead>\n",
       "    <tr style=\"text-align: right;\">\n",
       "      <th></th>\n",
       "      <th>age</th>\n",
       "    </tr>\n",
       "  </thead>\n",
       "  <tbody>\n",
       "    <tr>\n",
       "      <th>кол-во строк</th>\n",
       "      <td>73799</td>\n",
       "    </tr>\n",
       "    <tr>\n",
       "      <th>тип значений</th>\n",
       "      <td>int64</td>\n",
       "    </tr>\n",
       "    <tr>\n",
       "      <th>кол-во значений</th>\n",
       "      <td>73799</td>\n",
       "    </tr>\n",
       "    <tr>\n",
       "      <th>кол-во NaN</th>\n",
       "      <td>0</td>\n",
       "    </tr>\n",
       "    <tr>\n",
       "      <th>среднее</th>\n",
       "      <td>39.2806</td>\n",
       "    </tr>\n",
       "    <tr>\n",
       "      <th>медиана</th>\n",
       "      <td>37</td>\n",
       "    </tr>\n",
       "    <tr>\n",
       "      <th>мин</th>\n",
       "      <td>21</td>\n",
       "    </tr>\n",
       "    <tr>\n",
       "      <th>макс</th>\n",
       "      <td>72</td>\n",
       "    </tr>\n",
       "  </tbody>\n",
       "</table>\n",
       "</div>"
      ],
      "text/plain": [
       "                     age\n",
       "кол-во строк       73799\n",
       "тип значений       int64\n",
       "кол-во значений    73799\n",
       "кол-во NaN             0\n",
       "среднее          39.2806\n",
       "медиана               37\n",
       "мин                   21\n",
       "макс                  72"
      ]
     },
     "metadata": {},
     "output_type": "display_data"
    }
   ],
   "source": [
    "describe_without_plots('age', df[df['Train']==1].age)"
   ]
  },
  {
   "cell_type": "code",
   "execution_count": 240,
   "metadata": {},
   "outputs": [],
   "source": [
    "df['age'] = np.log(df['age'] + 1)"
   ]
  },
  {
   "cell_type": "markdown",
   "metadata": {},
   "source": [
    "Резюме - Age: Распределение логнормальное , выбросов по квартилям нет. Взяли логарифм от признака"
   ]
  },
  {
   "cell_type": "markdown",
   "metadata": {},
   "source": [
    "### 2. decline_app_cnt"
   ]
  },
  {
   "cell_type": "code",
   "execution_count": 241,
   "metadata": {},
   "outputs": [
    {
     "data": {
      "image/png": "[encoded data removed]",
      "text/plain": [
       "<Figure size 864x216 with 4 Axes>"
      ]
     },
     "metadata": {
      "needs_background": "light"
     },
     "output_type": "display_data"
    }
   ],
   "source": [
    "four_plot_with_log2('decline_app_cnt', df[df['Train']==1])"
   ]
  },
  {
   "cell_type": "code",
   "execution_count": 242,
   "metadata": {},
   "outputs": [
    {
     "data": {
      "text/html": [
       "<div>\n",
       "<style scoped>\n",
       "    .dataframe tbody tr th:only-of-type {\n",
       "        vertical-align: middle;\n",
       "    }\n",
       "\n",
       "    .dataframe tbody tr th {\n",
       "        vertical-align: top;\n",
       "    }\n",
       "\n",
       "    .dataframe thead th {\n",
       "        text-align: right;\n",
       "    }\n",
       "</style>\n",
       "<table border=\"1\" class=\"dataframe\">\n",
       "  <thead>\n",
       "    <tr style=\"text-align: right;\">\n",
       "      <th></th>\n",
       "      <th>левая</th>\n",
       "      <th>правая</th>\n",
       "    </tr>\n",
       "  </thead>\n",
       "  <tbody>\n",
       "    <tr>\n",
       "      <th>границы выбросов с логарифмом</th>\n",
       "      <td>0.0</td>\n",
       "      <td>0.0</td>\n",
       "    </tr>\n",
       "    <tr>\n",
       "      <th>границы выбросов без логарифма</th>\n",
       "      <td>0.0</td>\n",
       "      <td>0.0</td>\n",
       "    </tr>\n",
       "    <tr>\n",
       "      <th>кол-во значений за границей</th>\n",
       "      <td>0.0</td>\n",
       "      <td>12585.0</td>\n",
       "    </tr>\n",
       "  </tbody>\n",
       "</table>\n",
       "</div>"
      ],
      "text/plain": [
       "                                левая   правая\n",
       "границы выбросов с логарифмом     0.0      0.0\n",
       "границы выбросов без логарифма    0.0      0.0\n",
       "кол-во значений за границей       0.0  12585.0"
      ]
     },
     "metadata": {},
     "output_type": "display_data"
    }
   ],
   "source": [
    "# посмотрим на выбросы - границы (оригинал и логарифм) и их кол-во\n",
    "borders_of_outliers('decline_app_cnt',df[df['Train']==1], log = True)"
   ]
  },
  {
   "cell_type": "code",
   "execution_count": 243,
   "metadata": {},
   "outputs": [],
   "source": [
    "df['decline_app_cnt'] = np.log(df['decline_app_cnt'] + 1)"
   ]
  },
  {
   "cell_type": "markdown",
   "metadata": {},
   "source": [
    "Резюме - decline_app_cnt: Распределение логнормальное - взяли логарифм, выбросов очень много даже после логарифмирования, поэтому удалять их пока не будем. Построим модель, а потом вернемся к этому вопросу при необходимости."
   ]
  },
  {
   "cell_type": "markdown",
   "metadata": {},
   "source": [
    "### 3. bki_request_cnt"
   ]
  },
  {
   "cell_type": "code",
   "execution_count": 244,
   "metadata": {},
   "outputs": [
    {
     "data": {
      "image/png": "[encoded data removed]",
      "text/plain": [
       "<Figure size 864x216 with 4 Axes>"
      ]
     },
     "metadata": {
      "needs_background": "light"
     },
     "output_type": "display_data"
    }
   ],
   "source": [
    "four_plot_with_log2('bki_request_cnt', df[(df['Train']==1)])"
   ]
  },
  {
   "cell_type": "code",
   "execution_count": 245,
   "metadata": {},
   "outputs": [
    {
     "data": {
      "text/html": [
       "<div>\n",
       "<style scoped>\n",
       "    .dataframe tbody tr th:only-of-type {\n",
       "        vertical-align: middle;\n",
       "    }\n",
       "\n",
       "    .dataframe tbody tr th {\n",
       "        vertical-align: top;\n",
       "    }\n",
       "\n",
       "    .dataframe thead th {\n",
       "        text-align: right;\n",
       "    }\n",
       "</style>\n",
       "<table border=\"1\" class=\"dataframe\">\n",
       "  <thead>\n",
       "    <tr style=\"text-align: right;\">\n",
       "      <th></th>\n",
       "      <th>левая</th>\n",
       "      <th>правая</th>\n",
       "    </tr>\n",
       "  </thead>\n",
       "  <tbody>\n",
       "    <tr>\n",
       "      <th>границы выбросов с логарифмом</th>\n",
       "      <td>-2.079442</td>\n",
       "      <td>3.465736</td>\n",
       "    </tr>\n",
       "    <tr>\n",
       "      <th>границы выбросов без логарифма</th>\n",
       "      <td>-0.875000</td>\n",
       "      <td>31.000000</td>\n",
       "    </tr>\n",
       "    <tr>\n",
       "      <th>кол-во значений за границей</th>\n",
       "      <td>0.000000</td>\n",
       "      <td>9.000000</td>\n",
       "    </tr>\n",
       "  </tbody>\n",
       "</table>\n",
       "</div>"
      ],
      "text/plain": [
       "                                   левая     правая\n",
       "границы выбросов с логарифмом  -2.079442   3.465736\n",
       "границы выбросов без логарифма -0.875000  31.000000\n",
       "кол-во значений за границей     0.000000   9.000000"
      ]
     },
     "metadata": {},
     "output_type": "display_data"
    }
   ],
   "source": [
    "# визуально выбросов нет, посмотрим на числовые значения границ\n",
    "borders_of_outliers('bki_request_cnt',df[df['Train']==1], log = True)"
   ]
  },
  {
   "cell_type": "code",
   "execution_count": 246,
   "metadata": {},
   "outputs": [],
   "source": [
    "df['bki_request_cnt'] = np.log(df['bki_request_cnt'] + 1)"
   ]
  },
  {
   "cell_type": "markdown",
   "metadata": {},
   "source": [
    "Резюме - bki_request_cnt: Распределение логнормальное - взяли логарифм, выбросов не много, не стали удалять"
   ]
  },
  {
   "cell_type": "markdown",
   "metadata": {},
   "source": [
    "### 4. income"
   ]
  },
  {
   "cell_type": "code",
   "execution_count": 247,
   "metadata": {},
   "outputs": [
    {
     "data": {
      "image/png": "[encoded data removed]",
      "text/plain": [
       "<Figure size 864x216 with 4 Axes>"
      ]
     },
     "metadata": {
      "needs_background": "light"
     },
     "output_type": "display_data"
    }
   ],
   "source": [
    "four_plot_with_log2('income', df[df['Train']==1])"
   ]
  },
  {
   "cell_type": "code",
   "execution_count": 248,
   "metadata": {},
   "outputs": [
    {
     "data": {
      "text/html": [
       "<div>\n",
       "<style scoped>\n",
       "    .dataframe tbody tr th:only-of-type {\n",
       "        vertical-align: middle;\n",
       "    }\n",
       "\n",
       "    .dataframe tbody tr th {\n",
       "        vertical-align: top;\n",
       "    }\n",
       "\n",
       "    .dataframe thead th {\n",
       "        text-align: right;\n",
       "    }\n",
       "</style>\n",
       "<table border=\"1\" class=\"dataframe\">\n",
       "  <thead>\n",
       "    <tr style=\"text-align: right;\">\n",
       "      <th></th>\n",
       "      <th>левая</th>\n",
       "      <th>правая</th>\n",
       "    </tr>\n",
       "  </thead>\n",
       "  <tbody>\n",
       "    <tr>\n",
       "      <th>границы выбросов с логарифмом</th>\n",
       "      <td>8.590378</td>\n",
       "      <td>12.092136</td>\n",
       "    </tr>\n",
       "    <tr>\n",
       "      <th>границы выбросов без логарифма</th>\n",
       "      <td>5378.647840</td>\n",
       "      <td>178461.983007</td>\n",
       "    </tr>\n",
       "    <tr>\n",
       "      <th>кол-во значений за границей</th>\n",
       "      <td>595.000000</td>\n",
       "      <td>1172.000000</td>\n",
       "    </tr>\n",
       "  </tbody>\n",
       "</table>\n",
       "</div>"
      ],
      "text/plain": [
       "                                      левая         правая\n",
       "границы выбросов с логарифмом      8.590378      12.092136\n",
       "границы выбросов без логарифма  5378.647840  178461.983007\n",
       "кол-во значений за границей      595.000000    1172.000000"
      ]
     },
     "metadata": {},
     "output_type": "display_data"
    }
   ],
   "source": [
    "borders_of_outliers('income',df[df['Train']==1], log = True)"
   ]
  },
  {
   "cell_type": "code",
   "execution_count": 249,
   "metadata": {},
   "outputs": [],
   "source": [
    "df['income'] = np.log(df['income'] + 1)"
   ]
  },
  {
   "cell_type": "markdown",
   "metadata": {},
   "source": [
    "Резюме - income: Распределение логнормальное - взяли логарифм, выбросов очень много и слева и справа даже после логарифмирования, поэтому удалять их пока не будем. Построим модель, а потом вернемся к этому вопросу при необходимости."
   ]
  },
  {
   "cell_type": "markdown",
   "metadata": {},
   "source": [
    "### 5.score_bki"
   ]
  },
  {
   "cell_type": "code",
   "execution_count": 250,
   "metadata": {},
   "outputs": [
    {
     "data": {
      "text/html": [
       "<div>\n",
       "<style scoped>\n",
       "    .dataframe tbody tr th:only-of-type {\n",
       "        vertical-align: middle;\n",
       "    }\n",
       "\n",
       "    .dataframe tbody tr th {\n",
       "        vertical-align: top;\n",
       "    }\n",
       "\n",
       "    .dataframe thead th {\n",
       "        text-align: right;\n",
       "    }\n",
       "</style>\n",
       "<table border=\"1\" class=\"dataframe\">\n",
       "  <thead>\n",
       "    <tr style=\"text-align: right;\">\n",
       "      <th></th>\n",
       "      <th>score_bki</th>\n",
       "    </tr>\n",
       "  </thead>\n",
       "  <tbody>\n",
       "    <tr>\n",
       "      <th>кол-во строк</th>\n",
       "      <td>73799</td>\n",
       "    </tr>\n",
       "    <tr>\n",
       "      <th>тип значений</th>\n",
       "      <td>float64</td>\n",
       "    </tr>\n",
       "    <tr>\n",
       "      <th>кол-во значений</th>\n",
       "      <td>73799</td>\n",
       "    </tr>\n",
       "    <tr>\n",
       "      <th>кол-во NaN</th>\n",
       "      <td>0</td>\n",
       "    </tr>\n",
       "    <tr>\n",
       "      <th>среднее</th>\n",
       "      <td>-1.90472</td>\n",
       "    </tr>\n",
       "    <tr>\n",
       "      <th>медиана</th>\n",
       "      <td>-1.92082</td>\n",
       "    </tr>\n",
       "    <tr>\n",
       "      <th>мин</th>\n",
       "      <td>-3.62459</td>\n",
       "    </tr>\n",
       "    <tr>\n",
       "      <th>макс</th>\n",
       "      <td>0.199773</td>\n",
       "    </tr>\n",
       "  </tbody>\n",
       "</table>\n",
       "</div>"
      ],
      "text/plain": [
       "                score_bki\n",
       "кол-во строк        73799\n",
       "тип значений      float64\n",
       "кол-во значений     73799\n",
       "кол-во NaN              0\n",
       "среднее          -1.90472\n",
       "медиана          -1.92082\n",
       "мин              -3.62459\n",
       "макс             0.199773"
      ]
     },
     "metadata": {},
     "output_type": "display_data"
    },
    {
     "data": {
      "image/png": "[encoded data removed]",
      "text/plain": [
       "<Figure size 288x216 with 1 Axes>"
      ]
     },
     "metadata": {
      "needs_background": "light"
     },
     "output_type": "display_data"
    }
   ],
   "source": [
    "describe_with_hist('score_bki', df[df['Train']==1].score_bki)"
   ]
  },
  {
   "cell_type": "code",
   "execution_count": 251,
   "metadata": {},
   "outputs": [
    {
     "data": {
      "text/html": [
       "<div>\n",
       "<style scoped>\n",
       "    .dataframe tbody tr th:only-of-type {\n",
       "        vertical-align: middle;\n",
       "    }\n",
       "\n",
       "    .dataframe tbody tr th {\n",
       "        vertical-align: top;\n",
       "    }\n",
       "\n",
       "    .dataframe thead th {\n",
       "        text-align: right;\n",
       "    }\n",
       "</style>\n",
       "<table border=\"1\" class=\"dataframe\">\n",
       "  <thead>\n",
       "    <tr style=\"text-align: right;\">\n",
       "      <th></th>\n",
       "      <th>левая</th>\n",
       "      <th>правая</th>\n",
       "    </tr>\n",
       "  </thead>\n",
       "  <tbody>\n",
       "    <tr>\n",
       "      <th>границы выбросов</th>\n",
       "      <td>-3.294088</td>\n",
       "      <td>-0.535277</td>\n",
       "    </tr>\n",
       "    <tr>\n",
       "      <th>кол-во значений за границей</th>\n",
       "      <td>52.000000</td>\n",
       "      <td>299.000000</td>\n",
       "    </tr>\n",
       "  </tbody>\n",
       "</table>\n",
       "</div>"
      ],
      "text/plain": [
       "                                 левая      правая\n",
       "границы выбросов             -3.294088   -0.535277\n",
       "кол-во значений за границей  52.000000  299.000000"
      ]
     },
     "metadata": {},
     "output_type": "display_data"
    }
   ],
   "source": [
    "borders_of_outliers('score_bki',df[df['Train']==1], log = False)"
   ]
  },
  {
   "cell_type": "markdown",
   "metadata": {},
   "source": [
    "Резюме - score_bki: Распределение нормальное. Выбросов не много, не стали удалять"
   ]
  },
  {
   "cell_type": "markdown",
   "metadata": {},
   "source": [
    "### 6.sna"
   ]
  },
  {
   "cell_type": "code",
   "execution_count": 252,
   "metadata": {},
   "outputs": [
    {
     "data": {
      "image/png": "[encoded data removed]",
      "text/plain": [
       "<Figure size 864x216 with 4 Axes>"
      ]
     },
     "metadata": {
      "needs_background": "light"
     },
     "output_type": "display_data"
    }
   ],
   "source": [
    "four_plot_with_log2('sna', df[df['Train']==1])"
   ]
  },
  {
   "cell_type": "code",
   "execution_count": 253,
   "metadata": {},
   "outputs": [
    {
     "data": {
      "text/html": [
       "<div>\n",
       "<style scoped>\n",
       "    .dataframe tbody tr th:only-of-type {\n",
       "        vertical-align: middle;\n",
       "    }\n",
       "\n",
       "    .dataframe tbody tr th {\n",
       "        vertical-align: top;\n",
       "    }\n",
       "\n",
       "    .dataframe thead th {\n",
       "        text-align: right;\n",
       "    }\n",
       "</style>\n",
       "<table border=\"1\" class=\"dataframe\">\n",
       "  <thead>\n",
       "    <tr style=\"text-align: right;\">\n",
       "      <th></th>\n",
       "      <th>sna</th>\n",
       "    </tr>\n",
       "  </thead>\n",
       "  <tbody>\n",
       "    <tr>\n",
       "      <th>кол-во строк</th>\n",
       "      <td>73799</td>\n",
       "    </tr>\n",
       "    <tr>\n",
       "      <th>тип значений</th>\n",
       "      <td>int64</td>\n",
       "    </tr>\n",
       "    <tr>\n",
       "      <th>кол-во значений</th>\n",
       "      <td>73799</td>\n",
       "    </tr>\n",
       "    <tr>\n",
       "      <th>кол-во NaN</th>\n",
       "      <td>0</td>\n",
       "    </tr>\n",
       "    <tr>\n",
       "      <th>среднее</th>\n",
       "      <td>1.73333</td>\n",
       "    </tr>\n",
       "    <tr>\n",
       "      <th>медиана</th>\n",
       "      <td>1</td>\n",
       "    </tr>\n",
       "    <tr>\n",
       "      <th>мин</th>\n",
       "      <td>1</td>\n",
       "    </tr>\n",
       "    <tr>\n",
       "      <th>макс</th>\n",
       "      <td>4</td>\n",
       "    </tr>\n",
       "  </tbody>\n",
       "</table>\n",
       "</div>"
      ],
      "text/plain": [
       "                     sna\n",
       "кол-во строк       73799\n",
       "тип значений       int64\n",
       "кол-во значений    73799\n",
       "кол-во NaN             0\n",
       "среднее          1.73333\n",
       "медиана                1\n",
       "мин                    1\n",
       "макс                   4"
      ]
     },
     "metadata": {},
     "output_type": "display_data"
    }
   ],
   "source": [
    "describe_without_plots('sna', df[df['Train']==1].sna)"
   ]
  },
  {
   "cell_type": "markdown",
   "metadata": {},
   "source": [
    "Резюме - sna: Распределение смещено вправо - скорее логнормальное. Но не стали пока брать логарифм. Выбросов нет. Всего 4 значения решили использовать как категориальный признак."
   ]
  },
  {
   "cell_type": "markdown",
   "metadata": {},
   "source": [
    "### 7.first_time"
   ]
  },
  {
   "cell_type": "code",
   "execution_count": 254,
   "metadata": {},
   "outputs": [
    {
     "data": {
      "image/png": "[encoded data removed]",
      "text/plain": [
       "<Figure size 864x216 with 4 Axes>"
      ]
     },
     "metadata": {
      "needs_background": "light"
     },
     "output_type": "display_data"
    }
   ],
   "source": [
    "four_plot_with_log2('first_time', df[df['Train']==1])"
   ]
  },
  {
   "cell_type": "code",
   "execution_count": 255,
   "metadata": {},
   "outputs": [
    {
     "data": {
      "text/html": [
       "<div>\n",
       "<style scoped>\n",
       "    .dataframe tbody tr th:only-of-type {\n",
       "        vertical-align: middle;\n",
       "    }\n",
       "\n",
       "    .dataframe tbody tr th {\n",
       "        vertical-align: top;\n",
       "    }\n",
       "\n",
       "    .dataframe thead th {\n",
       "        text-align: right;\n",
       "    }\n",
       "</style>\n",
       "<table border=\"1\" class=\"dataframe\">\n",
       "  <thead>\n",
       "    <tr style=\"text-align: right;\">\n",
       "      <th></th>\n",
       "      <th>first_time</th>\n",
       "    </tr>\n",
       "  </thead>\n",
       "  <tbody>\n",
       "    <tr>\n",
       "      <th>кол-во строк</th>\n",
       "      <td>73799</td>\n",
       "    </tr>\n",
       "    <tr>\n",
       "      <th>тип значений</th>\n",
       "      <td>int64</td>\n",
       "    </tr>\n",
       "    <tr>\n",
       "      <th>кол-во значений</th>\n",
       "      <td>73799</td>\n",
       "    </tr>\n",
       "    <tr>\n",
       "      <th>кол-во NaN</th>\n",
       "      <td>0</td>\n",
       "    </tr>\n",
       "    <tr>\n",
       "      <th>среднее</th>\n",
       "      <td>1.73333</td>\n",
       "    </tr>\n",
       "    <tr>\n",
       "      <th>медиана</th>\n",
       "      <td>1</td>\n",
       "    </tr>\n",
       "    <tr>\n",
       "      <th>мин</th>\n",
       "      <td>1</td>\n",
       "    </tr>\n",
       "    <tr>\n",
       "      <th>макс</th>\n",
       "      <td>4</td>\n",
       "    </tr>\n",
       "  </tbody>\n",
       "</table>\n",
       "</div>"
      ],
      "text/plain": [
       "                first_time\n",
       "кол-во строк         73799\n",
       "тип значений         int64\n",
       "кол-во значений      73799\n",
       "кол-во NaN               0\n",
       "среднее            1.73333\n",
       "медиана                  1\n",
       "мин                      1\n",
       "макс                     4"
      ]
     },
     "metadata": {},
     "output_type": "display_data"
    }
   ],
   "source": [
    "describe_without_plots('first_time', df[df['Train']==1].sna)"
   ]
  },
  {
   "cell_type": "markdown",
   "metadata": {},
   "source": [
    "Резюме - first_time: Распределение смещено влево - нормальное. Выбросов нет. Всего 4 значения решили использовать как категориальный признак."
   ]
  },
  {
   "cell_type": "markdown",
   "metadata": {},
   "source": [
    "### 8.region_rating"
   ]
  },
  {
   "cell_type": "code",
   "execution_count": 256,
   "metadata": {},
   "outputs": [
    {
     "data": {
      "image/png": "[encoded data removed]",
      "text/plain": [
       "<Figure size 864x216 with 4 Axes>"
      ]
     },
     "metadata": {
      "needs_background": "light"
     },
     "output_type": "display_data"
    }
   ],
   "source": [
    "four_plot_with_log2('region_rating', df[df['Train']==1])"
   ]
  },
  {
   "cell_type": "code",
   "execution_count": 257,
   "metadata": {},
   "outputs": [
    {
     "data": {
      "text/html": [
       "<div>\n",
       "<style scoped>\n",
       "    .dataframe tbody tr th:only-of-type {\n",
       "        vertical-align: middle;\n",
       "    }\n",
       "\n",
       "    .dataframe tbody tr th {\n",
       "        vertical-align: top;\n",
       "    }\n",
       "\n",
       "    .dataframe thead th {\n",
       "        text-align: right;\n",
       "    }\n",
       "</style>\n",
       "<table border=\"1\" class=\"dataframe\">\n",
       "  <thead>\n",
       "    <tr style=\"text-align: right;\">\n",
       "      <th></th>\n",
       "      <th>region_rating</th>\n",
       "    </tr>\n",
       "  </thead>\n",
       "  <tbody>\n",
       "    <tr>\n",
       "      <th>кол-во строк</th>\n",
       "      <td>73799</td>\n",
       "    </tr>\n",
       "    <tr>\n",
       "      <th>тип значений</th>\n",
       "      <td>int64</td>\n",
       "    </tr>\n",
       "    <tr>\n",
       "      <th>кол-во значений</th>\n",
       "      <td>73799</td>\n",
       "    </tr>\n",
       "    <tr>\n",
       "      <th>кол-во NaN</th>\n",
       "      <td>0</td>\n",
       "    </tr>\n",
       "    <tr>\n",
       "      <th>среднее</th>\n",
       "      <td>56.7257</td>\n",
       "    </tr>\n",
       "    <tr>\n",
       "      <th>медиана</th>\n",
       "      <td>50</td>\n",
       "    </tr>\n",
       "    <tr>\n",
       "      <th>мин</th>\n",
       "      <td>20</td>\n",
       "    </tr>\n",
       "    <tr>\n",
       "      <th>макс</th>\n",
       "      <td>80</td>\n",
       "    </tr>\n",
       "  </tbody>\n",
       "</table>\n",
       "</div>"
      ],
      "text/plain": [
       "                region_rating\n",
       "кол-во строк            73799\n",
       "тип значений            int64\n",
       "кол-во значений         73799\n",
       "кол-во NaN                  0\n",
       "среднее               56.7257\n",
       "медиана                    50\n",
       "мин                        20\n",
       "макс                       80"
      ]
     },
     "metadata": {},
     "output_type": "display_data"
    }
   ],
   "source": [
    "describe_without_plots('region_rating', df[df['Train']==1].region_rating)"
   ]
  },
  {
   "cell_type": "code",
   "execution_count": 258,
   "metadata": {},
   "outputs": [
    {
     "data": {
      "text/html": [
       "<div>\n",
       "<style scoped>\n",
       "    .dataframe tbody tr th:only-of-type {\n",
       "        vertical-align: middle;\n",
       "    }\n",
       "\n",
       "    .dataframe tbody tr th {\n",
       "        vertical-align: top;\n",
       "    }\n",
       "\n",
       "    .dataframe thead th {\n",
       "        text-align: right;\n",
       "    }\n",
       "</style>\n",
       "<table border=\"1\" class=\"dataframe\">\n",
       "  <thead>\n",
       "    <tr style=\"text-align: right;\">\n",
       "      <th></th>\n",
       "      <th>левая</th>\n",
       "      <th>правая</th>\n",
       "    </tr>\n",
       "  </thead>\n",
       "  <tbody>\n",
       "    <tr>\n",
       "      <th>границы выбросов</th>\n",
       "      <td>35.0</td>\n",
       "      <td>75.0</td>\n",
       "    </tr>\n",
       "    <tr>\n",
       "      <th>кол-во значений за границей</th>\n",
       "      <td>506.0</td>\n",
       "      <td>11469.0</td>\n",
       "    </tr>\n",
       "  </tbody>\n",
       "</table>\n",
       "</div>"
      ],
      "text/plain": [
       "                             левая   правая\n",
       "границы выбросов              35.0     75.0\n",
       "кол-во значений за границей  506.0  11469.0"
      ]
     },
     "metadata": {},
     "output_type": "display_data"
    }
   ],
   "source": [
    "borders_of_outliers('region_rating',df[df['Train']==1], log = False)"
   ]
  },
  {
   "cell_type": "markdown",
   "metadata": {},
   "source": [
    "Резюме - region_rating: Распределение скорее логнормальное. Выбросов слева в кол-ве 506 по рейтингу региона 30 и 20 в кол-ве 506 в принципе можно было бы удалить, но посмотрим сначала как сработает модель без удаления потом удалим. Справа выбросов очень много но возможно после удаления значений слева распределение сместиться вправо и при логорифмировании выбросы пропадут. Решили использовать как категориальный признак."
   ]
  },
  {
   "cell_type": "markdown",
   "metadata": {},
   "source": [
    "### 9. education"
   ]
  },
  {
   "cell_type": "code",
   "execution_count": 259,
   "metadata": {},
   "outputs": [
    {
     "data": {
      "text/plain": [
       "<matplotlib.axes._subplots.AxesSubplot at 0x1fc191365c0>"
      ]
     },
     "execution_count": 259,
     "metadata": {},
     "output_type": "execute_result"
    },
    {
     "data": {
      "image/png": "[encoded data removed]",
      "text/plain": [
       "<Figure size 864x216 with 1 Axes>"
      ]
     },
     "metadata": {
      "needs_background": "light"
     },
     "output_type": "display_data"
    }
   ],
   "source": [
    "df['education'].value_counts().plot.bar()"
   ]
  },
  {
   "cell_type": "code",
   "execution_count": 260,
   "metadata": {},
   "outputs": [],
   "source": [
    "# заполним пропуски в education\n",
    "# переменной education 307 (0.4%) пропущенных значений \n",
    "# заполним пропуски самым популярным значением \n",
    "df['education'] = df['education'].fillna('SCH')"
   ]
  },
  {
   "cell_type": "markdown",
   "metadata": {},
   "source": [
    "### 10. app_date - числовой ряд"
   ]
  },
  {
   "cell_type": "code",
   "execution_count": 261,
   "metadata": {},
   "outputs": [],
   "source": [
    "# Преобразуем формат признака\n",
    "df.app_date = pd.to_datetime(df.app_date, format='%d%b%Y')"
   ]
  },
  {
   "cell_type": "code",
   "execution_count": 262,
   "metadata": {},
   "outputs": [
    {
     "data": {
      "text/plain": [
       "(Timestamp('2014-01-01 00:00:00'), Timestamp('2014-04-30 00:00:00'))"
      ]
     },
     "execution_count": 262,
     "metadata": {},
     "output_type": "execute_result"
    }
   ],
   "source": [
    "# Выясняем начало и конец периода нашего датасета - это 1 января и 30 апреля 2014 года\n",
    "start = df.app_date.min()\n",
    "end = df.app_date.max()\n",
    "start,end"
   ]
  },
  {
   "cell_type": "code",
   "execution_count": 263,
   "metadata": {},
   "outputs": [],
   "source": [
    "# Вводим новый признак - номер дня с 1 января\n",
    "df['days'] = (df.app_date - start).dt.days.astype('int')"
   ]
  },
  {
   "cell_type": "code",
   "execution_count": 264,
   "metadata": {},
   "outputs": [
    {
     "data": {
      "image/png": "[encoded data removed]",
      "text/plain": [
       "<Figure size 864x288 with 1 Axes>"
      ]
     },
     "metadata": {
      "needs_background": "light"
     },
     "output_type": "display_data"
    }
   ],
   "source": [
    "# Среднее число дефолтов по тренировочному датасету отрицательно коррелирует с месяцем подачи заявки\n",
    "plt.style.use('seaborn-paper')\n",
    "plt.subplots(figsize=(12, 4))\n",
    "color_text = plt.get_cmap('PuBu')(0.85)\n",
    "sns.barplot(data=df[df['Train']==1], x=df.loc[df['Train']==1,'app_date'].dt.month, y='default', palette=\"PuBu\");"
   ]
  },
  {
   "cell_type": "code",
   "execution_count": 265,
   "metadata": {},
   "outputs": [
    {
     "data": {
      "text/plain": [
       "<matplotlib.axes._subplots.AxesSubplot at 0x1fc1925c978>"
      ]
     },
     "execution_count": 265,
     "metadata": {},
     "output_type": "execute_result"
    },
    {
     "data": {
      "image/png": "[encoded data removed]",
      "text/plain": [
       "<Figure size 460.8x316.8 with 1 Axes>"
      ]
     },
     "metadata": {
      "needs_background": "light"
     },
     "output_type": "display_data"
    }
   ],
   "source": [
    "# Выясняем, что в банке велась сквозная нумерация клиентов в зависимости от дня обращения\n",
    "sns.scatterplot(x='client_id',y='days',data=df)"
   ]
  },
  {
   "cell_type": "code",
   "execution_count": 266,
   "metadata": {},
   "outputs": [
    {
     "data": {
      "image/png": "[encoded data removed]",
      "text/plain": [
       "<Figure size 432x288 with 1 Axes>"
      ]
     },
     "metadata": {
      "needs_background": "light"
     },
     "output_type": "display_data"
    }
   ],
   "source": [
    "# На более гладком графике видно, что с 90 дня борьба с дефолтами стала успешной\n",
    "plot_filter_df_kde(['Не дефолтный','Дефолтный'], 'default', 'days', df[df['Train']==1], 1.1)"
   ]
  },
  {
   "cell_type": "markdown",
   "metadata": {},
   "source": [
    "### 11. Остальные категориальные и бинарные признаки исследовались при выполнении задания на платформе SF"
   ]
  },
  {
   "cell_type": "markdown",
   "metadata": {},
   "source": [
    "### Оценка корреляций"
   ]
  },
  {
   "cell_type": "code",
   "execution_count": 267,
   "metadata": {},
   "outputs": [
    {
     "data": {
      "image/png": "[encoded data removed]",
      "text/plain": [
       "<Figure size 648x432 with 2 Axes>"
      ]
     },
     "metadata": {},
     "output_type": "display_data"
    }
   ],
   "source": [
    "simple_heatmap('Матрица корреляции тренировочного датасета на числовых переменных',df[df['Train']==1], num_cols+['default'], 1.1, 1, 9)"
   ]
  },
  {
   "cell_type": "markdown",
   "metadata": {},
   "source": [
    "Резюме - сильно скорелированных между собой признаков нет, все берем в работу"
   ]
  },
  {
   "cell_type": "markdown",
   "metadata": {},
   "source": [
    "### Значимость непрерывных переменных по ANOVA F test"
   ]
  },
  {
   "cell_type": "code",
   "execution_count": 268,
   "metadata": {},
   "outputs": [
    {
     "data": {
      "text/plain": [
       "<matplotlib.axes._subplots.AxesSubplot at 0x1fc19ea49b0>"
      ]
     },
     "execution_count": 268,
     "metadata": {},
     "output_type": "execute_result"
    },
    {
     "data": {
      "image/png": "[encoded data removed]",
      "text/plain": [
       "<Figure size 460.8x316.8 with 1 Axes>"
      ]
     },
     "metadata": {},
     "output_type": "display_data"
    }
   ],
   "source": [
    "temp_df = df[df['Train']==1]\n",
    "imp_num = pd.Series(f_classif(temp_df[num_cols], temp_df['default'])[0], index = num_cols)\n",
    "imp_num.sort_values(inplace = True)\n",
    "imp_num.plot(kind = 'barh', title='Значимость непрерывных переменных по ANOVA F test')"
   ]
  },
  {
   "cell_type": "markdown",
   "metadata": {},
   "source": [
    "Резюме - оценка плательщика БКИ (score_bki) самый значимый показатель по ANOVA F test, потом кол-во отказанных заявок (declain_app_cnt) и в конце возраст (age)"
   ]
  },
  {
   "cell_type": "markdown",
   "metadata": {},
   "source": [
    "### Посмотрим на значимость категориальных и бинарных переменных"
   ]
  },
  {
   "cell_type": "code",
   "execution_count": 269,
   "metadata": {},
   "outputs": [
    {
     "name": "stdout",
     "output_type": "stream",
     "text": [
      "['work_address', 'home_address', 'sex', 'car', 'car_type', 'good_work', 'foreign_passport', 'education_l']\n"
     ]
    },
    {
     "data": {
      "text/plain": [
       "<matplotlib.axes._subplots.AxesSubplot at 0x1fc19eac400>"
      ]
     },
     "execution_count": 269,
     "metadata": {},
     "output_type": "execute_result"
    },
    {
     "data": {
      "image/png": "[encoded data removed]",
      "text/plain": [
       "<Figure size 460.8x316.8 with 1 Axes>"
      ]
     },
     "metadata": {},
     "output_type": "display_data"
    }
   ],
   "source": [
    "label_encoder = LabelEncoder()\n",
    "df['education_l'] = label_encoder.fit_transform(df['education'])\n",
    "\n",
    "# паралельно подготовим бинарные переменные и переведем их в числовой формат\n",
    "# для бинарных признаков мы будем использовать LabelEncoder\n",
    "label_encoder = LabelEncoder()\n",
    "for column in bin_cols:\n",
    "    df[column] = label_encoder.fit_transform(df[column])\n",
    "    \n",
    "# тут могут быть потенциальные даталики, но мы пока не придумали как это обработать,\n",
    "# потому что далее по этим меткам формируются новые фичи по get_dummies\n",
    "\n",
    "all_cat_and_bin_cols = cat_cols+bin_cols\n",
    "all_cat_and_bin_cols.remove('education')\n",
    "all_cat_and_bin_cols.append('education_l')\n",
    "print(all_cat_and_bin_cols)\n",
    "\n",
    "temp_df = df[df['Train']==1]\n",
    "imp_cat = pd.Series(mutual_info_classif(temp_df[all_cat_and_bin_cols], temp_df['default'], discrete_features =True), index = all_cat_and_bin_cols)\n",
    "imp_cat.sort_values(inplace = True)\n",
    "imp_cat.plot(kind = 'barh', title = 'Значимость бин. и категор. переменных по Mutual information test')"
   ]
  },
  {
   "cell_type": "markdown",
   "metadata": {},
   "source": [
    "Резюме - Самым значимым признаком по Mutual information тесту является связь заемщика с клиентами банка (sna) и давность наличия информации о заемщике (first_time), потом идет рейтинг региона (region_rating) и в конце пол (sex)."
   ]
  },
  {
   "cell_type": "markdown",
   "metadata": {},
   "source": [
    "## 5. Подготовка данных к машинному обучению"
   ]
  },
  {
   "cell_type": "markdown",
   "metadata": {},
   "source": [
    "### Категориальные признаки"
   ]
  },
  {
   "cell_type": "code",
   "execution_count": 270,
   "metadata": {},
   "outputs": [],
   "source": [
    "# реализуем метод OneHotLabels через get_dummies\n",
    "df=pd.get_dummies(df, prefix=cat_cols, columns=cat_cols)"
   ]
  },
  {
   "cell_type": "markdown",
   "metadata": {},
   "source": [
    "### Стандартизация"
   ]
  },
  {
   "cell_type": "code",
   "execution_count": 271,
   "metadata": {},
   "outputs": [],
   "source": [
    "# стандартизацию проводим отдельно для трейна и теста, чтобы не допустить даталиков\n",
    "StandardScaler_df_and_filna_0(df[df['Train']==1], num_cols)\n",
    "StandardScaler_df_and_filna_0(df[df['Train']==0], num_cols)"
   ]
  },
  {
   "cell_type": "markdown",
   "metadata": {},
   "source": [
    "### Построчная верификация первых двух строк"
   ]
  },
  {
   "cell_type": "code",
   "execution_count": 272,
   "metadata": {},
   "outputs": [
    {
     "data": {
      "text/html": [
       "<div>\n",
       "<style scoped>\n",
       "    .dataframe tbody tr th:only-of-type {\n",
       "        vertical-align: middle;\n",
       "    }\n",
       "\n",
       "    .dataframe tbody tr th {\n",
       "        vertical-align: top;\n",
       "    }\n",
       "\n",
       "    .dataframe thead th {\n",
       "        text-align: right;\n",
       "    }\n",
       "</style>\n",
       "<table border=\"1\" class=\"dataframe\">\n",
       "  <thead>\n",
       "    <tr style=\"text-align: right;\">\n",
       "      <th></th>\n",
       "      <th>client_id</th>\n",
       "      <th>app_date</th>\n",
       "      <th>sex</th>\n",
       "      <th>age</th>\n",
       "      <th>car</th>\n",
       "      <th>car_type</th>\n",
       "      <th>decline_app_cnt</th>\n",
       "      <th>good_work</th>\n",
       "      <th>score_bki</th>\n",
       "      <th>bki_request_cnt</th>\n",
       "      <th>region_rating</th>\n",
       "      <th>income</th>\n",
       "      <th>sna</th>\n",
       "      <th>first_time</th>\n",
       "      <th>foreign_passport</th>\n",
       "      <th>default</th>\n",
       "      <th>Train</th>\n",
       "      <th>days</th>\n",
       "      <th>education_l</th>\n",
       "      <th>education_ACD</th>\n",
       "      <th>education_GRD</th>\n",
       "      <th>education_PGR</th>\n",
       "      <th>education_SCH</th>\n",
       "      <th>education_UGR</th>\n",
       "      <th>work_address_1</th>\n",
       "      <th>work_address_2</th>\n",
       "      <th>work_address_3</th>\n",
       "      <th>home_address_1</th>\n",
       "      <th>home_address_2</th>\n",
       "      <th>home_address_3</th>\n",
       "    </tr>\n",
       "  </thead>\n",
       "  <tbody>\n",
       "    <tr>\n",
       "      <th>0</th>\n",
       "      <td>25905</td>\n",
       "      <td>2014-02-01</td>\n",
       "      <td>1</td>\n",
       "      <td>4.143135</td>\n",
       "      <td>1</td>\n",
       "      <td>1</td>\n",
       "      <td>0.0</td>\n",
       "      <td>0</td>\n",
       "      <td>-2.008753</td>\n",
       "      <td>0.693147</td>\n",
       "      <td>50</td>\n",
       "      <td>9.798183</td>\n",
       "      <td>4</td>\n",
       "      <td>1</td>\n",
       "      <td>0</td>\n",
       "      <td>0.0</td>\n",
       "      <td>1</td>\n",
       "      <td>31</td>\n",
       "      <td>3</td>\n",
       "      <td>0</td>\n",
       "      <td>0</td>\n",
       "      <td>0</td>\n",
       "      <td>1</td>\n",
       "      <td>0</td>\n",
       "      <td>0</td>\n",
       "      <td>1</td>\n",
       "      <td>0</td>\n",
       "      <td>1</td>\n",
       "      <td>0</td>\n",
       "      <td>0</td>\n",
       "    </tr>\n",
       "    <tr>\n",
       "      <th>1</th>\n",
       "      <td>63161</td>\n",
       "      <td>2014-03-12</td>\n",
       "      <td>0</td>\n",
       "      <td>4.094345</td>\n",
       "      <td>0</td>\n",
       "      <td>0</td>\n",
       "      <td>0.0</td>\n",
       "      <td>0</td>\n",
       "      <td>-1.532276</td>\n",
       "      <td>1.386294</td>\n",
       "      <td>50</td>\n",
       "      <td>9.852247</td>\n",
       "      <td>4</td>\n",
       "      <td>1</td>\n",
       "      <td>0</td>\n",
       "      <td>0.0</td>\n",
       "      <td>1</td>\n",
       "      <td>70</td>\n",
       "      <td>3</td>\n",
       "      <td>0</td>\n",
       "      <td>0</td>\n",
       "      <td>0</td>\n",
       "      <td>1</td>\n",
       "      <td>0</td>\n",
       "      <td>0</td>\n",
       "      <td>0</td>\n",
       "      <td>1</td>\n",
       "      <td>0</td>\n",
       "      <td>1</td>\n",
       "      <td>0</td>\n",
       "    </tr>\n",
       "  </tbody>\n",
       "</table>\n",
       "</div>"
      ],
      "text/plain": [
       "   client_id   app_date  sex       age  car  car_type  decline_app_cnt  \\\n",
       "0      25905 2014-02-01    1  4.143135    1         1              0.0   \n",
       "1      63161 2014-03-12    0  4.094345    0         0              0.0   \n",
       "\n",
       "   good_work  score_bki  bki_request_cnt  region_rating    income  sna  \\\n",
       "0          0  -2.008753         0.693147             50  9.798183    4   \n",
       "1          0  -1.532276         1.386294             50  9.852247    4   \n",
       "\n",
       "   first_time  foreign_passport  default  Train  days  education_l  \\\n",
       "0           1                 0      0.0      1    31            3   \n",
       "1           1                 0      0.0      1    70            3   \n",
       "\n",
       "   education_ACD  education_GRD  education_PGR  education_SCH  education_UGR  \\\n",
       "0              0              0              0              1              0   \n",
       "1              0              0              0              1              0   \n",
       "\n",
       "   work_address_1  work_address_2  work_address_3  home_address_1  \\\n",
       "0               0               1               0               1   \n",
       "1               0               0               1               0   \n",
       "\n",
       "   home_address_2  home_address_3  \n",
       "0               0               0  \n",
       "1               1               0  "
      ]
     },
     "metadata": {},
     "output_type": "display_data"
    }
   ],
   "source": [
    "display(df.head(2))"
   ]
  },
  {
   "cell_type": "markdown",
   "metadata": {},
   "source": [
    "### Удаление нечисловых критериев"
   ]
  },
  {
   "cell_type": "code",
   "execution_count": 273,
   "metadata": {},
   "outputs": [],
   "source": [
    "df.drop(['app_date', 'education_l'], axis=1, inplace=True)"
   ]
  },
  {
   "cell_type": "markdown",
   "metadata": {},
   "source": [
    "## 6. Построение модели"
   ]
  },
  {
   "cell_type": "markdown",
   "metadata": {},
   "source": [
    "### Разбиваем датасет на тренировочный и тестовый"
   ]
  },
  {
   "cell_type": "code",
   "execution_count": 274,
   "metadata": {},
   "outputs": [],
   "source": [
    "train_data = df.query('Train == 1').drop(['Train', 'client_id'], axis=1)\n",
    "test_data = df.query('Train == 0').drop(['Train', 'client_id'], axis=1)\n",
    "\n",
    "y = train_data.default.values            # наш таргет\n",
    "X = train_data.drop(['default'], axis=1)"
   ]
  },
  {
   "cell_type": "code",
   "execution_count": 275,
   "metadata": {},
   "outputs": [],
   "source": [
    "# Воспользуемся специальной функцие train_test_split для разбивки тестовых данных\n",
    "# выделим 20% данных на валидацию (параметр test_size)\n",
    "X_train, X_test, y_train, y_test = train_test_split(X, y, test_size=0.2, random_state=RANDOM_SEED)"
   ]
  },
  {
   "cell_type": "code",
   "execution_count": 276,
   "metadata": {},
   "outputs": [
    {
     "data": {
      "text/plain": [
       "((36349, 26), (73799, 26), (73799, 25), (59039, 25), (14760, 25))"
      ]
     },
     "execution_count": 276,
     "metadata": {},
     "output_type": "execute_result"
    }
   ],
   "source": [
    "# проверяем\n",
    "test_data.shape, train_data.shape, X.shape, X_train.shape, X_test.shape"
   ]
  },
  {
   "cell_type": "markdown",
   "metadata": {},
   "source": [
    "### Обучаем модель, генерируем результат и сравниваем с тестом"
   ]
  },
  {
   "cell_type": "code",
   "execution_count": 277,
   "metadata": {},
   "outputs": [],
   "source": [
    "# первая модель на автомате\n",
    "model = LogisticRegression(random_state=RANDOM_SEED)\n",
    "\n",
    "model.fit(X_train, y_train)\n",
    "\n",
    "y_pred_prob = model.predict_proba(X_test)[:,1]\n",
    "y_pred = model.predict(X_test)"
   ]
  },
  {
   "cell_type": "markdown",
   "metadata": {},
   "source": [
    "### Оценка качества модели\n",
    "### Качественные метрики"
   ]
  },
  {
   "cell_type": "code",
   "execution_count": 278,
   "metadata": {},
   "outputs": [],
   "source": [
    "# в первый раз инициируем глобальную переменную с предыдущим скором\n",
    "last_pred = np.zeros((3,len(y_test)))"
   ]
  },
  {
   "cell_type": "code",
   "execution_count": 279,
   "metadata": {},
   "outputs": [
    {
     "data": {
      "text/html": [
       "<div>\n",
       "<style scoped>\n",
       "    .dataframe tbody tr th:only-of-type {\n",
       "        vertical-align: middle;\n",
       "    }\n",
       "\n",
       "    .dataframe tbody tr th {\n",
       "        vertical-align: top;\n",
       "    }\n",
       "\n",
       "    .dataframe thead th {\n",
       "        text-align: right;\n",
       "    }\n",
       "</style>\n",
       "<table border=\"1\" class=\"dataframe\">\n",
       "  <thead>\n",
       "    <tr style=\"text-align: right;\">\n",
       "      <th></th>\n",
       "      <th>Значение</th>\n",
       "      <th>Дельта с предыдущим</th>\n",
       "      <th>Описание</th>\n",
       "    </tr>\n",
       "  </thead>\n",
       "  <tbody>\n",
       "    <tr>\n",
       "      <th>accuracy</th>\n",
       "      <td>0.874593</td>\n",
       "      <td>0.0</td>\n",
       "      <td>(TP+TN)/(P+N)</td>\n",
       "    </tr>\n",
       "    <tr>\n",
       "      <th>balanced accuracy</th>\n",
       "      <td>0.508943</td>\n",
       "      <td>0.0</td>\n",
       "      <td>сбалансированная accuracy</td>\n",
       "    </tr>\n",
       "    <tr>\n",
       "      <th>precision</th>\n",
       "      <td>0.388889</td>\n",
       "      <td>0.0</td>\n",
       "      <td>точность = TP/(TP+FP)</td>\n",
       "    </tr>\n",
       "    <tr>\n",
       "      <th>recall</th>\n",
       "      <td>0.022989</td>\n",
       "      <td>0.0</td>\n",
       "      <td>полнота = TP/P</td>\n",
       "    </tr>\n",
       "    <tr>\n",
       "      <th>f1_score</th>\n",
       "      <td>0.043411</td>\n",
       "      <td>0.0</td>\n",
       "      <td>среднее гармоническое точности и полноты</td>\n",
       "    </tr>\n",
       "    <tr>\n",
       "      <th>roc_auc</th>\n",
       "      <td>0.743343</td>\n",
       "      <td>0.0</td>\n",
       "      <td>Area Under Curve - Receiver Operating Characte...</td>\n",
       "    </tr>\n",
       "  </tbody>\n",
       "</table>\n",
       "</div>"
      ],
      "text/plain": [
       "                   Значение  Дельта с предыдущим  \\\n",
       "accuracy           0.874593                  0.0   \n",
       "balanced accuracy  0.508943                  0.0   \n",
       "precision          0.388889                  0.0   \n",
       "recall             0.022989                  0.0   \n",
       "f1_score           0.043411                  0.0   \n",
       "roc_auc            0.743343                  0.0   \n",
       "\n",
       "                                                            Описание  \n",
       "accuracy                                               (TP+TN)/(P+N)  \n",
       "balanced accuracy                          сбалансированная accuracy  \n",
       "precision                                      точность = TP/(TP+FP)  \n",
       "recall                                                полнота = TP/P  \n",
       "f1_score                    среднее гармоническое точности и полноты  \n",
       "roc_auc            Area Under Curve - Receiver Operating Characte...  "
      ]
     },
     "metadata": {},
     "output_type": "display_data"
    }
   ],
   "source": [
    "test_last_pred(y_test, y_pred, y_pred_prob) if (last_pred[0].max() == 0) else 0\n",
    "all_metrics(y_test, y_pred, y_pred_prob)"
   ]
  },
  {
   "cell_type": "markdown",
   "metadata": {},
   "source": [
    "### Матрица ошибок"
   ]
  },
  {
   "cell_type": "code",
   "execution_count": 280,
   "metadata": {},
   "outputs": [
    {
     "data": {
      "image/png": "[encoded data removed]",
      "text/plain": [
       "<Figure size 460.8x316.8 with 2 Axes>"
      ]
     },
     "metadata": {},
     "output_type": "display_data"
    }
   ],
   "source": [
    "confusion_matrix_f(['Дефолтный','Не дефолтный'], y_test, y_pred, 1.2, normalize=False)"
   ]
  },
  {
   "cell_type": "markdown",
   "metadata": {},
   "source": [
    "### ROC кривая"
   ]
  },
  {
   "cell_type": "code",
   "execution_count": 281,
   "metadata": {},
   "outputs": [
    {
     "data": {
      "image/png": "[encoded data removed]",
      "text/plain": [
       "<Figure size 576x432 with 1 Axes>"
      ]
     },
     "metadata": {},
     "output_type": "display_data"
    }
   ],
   "source": [
    "ROC_curve_with_area(y_test, y_pred_prob, 1.1)"
   ]
  },
  {
   "cell_type": "markdown",
   "metadata": {},
   "source": [
    "Резюме - прекрасный пример несостоятельности метрики ROC-AUC на не сбалансированных данных. Мы абсолютно не угадали дефолтных клиентов, тем самым обеспечили себе огромную ошибку второго рода и как следствие колосальный убыток, но ROC-AUC у нас высокий. Благо f1 как-то сигнализирует о том что что-то не впорядке. Надо посмотреть на метрику которая может оценивать эффективность алгоритма на несбалансированных данных - PRC-AUC."
   ]
  },
  {
   "cell_type": "markdown",
   "metadata": {},
   "source": [
    "### Precision-Recall кривая"
   ]
  },
  {
   "cell_type": "code",
   "execution_count": 282,
   "metadata": {},
   "outputs": [
    {
     "data": {
      "image/png": "[encoded data removed]",
      "text/plain": [
       "<Figure size 576x432 with 1 Axes>"
      ]
     },
     "metadata": {},
     "output_type": "display_data"
    }
   ],
   "source": [
    "PR_curve_with_area(y_test, y_pred, 1.1)"
   ]
  },
  {
   "cell_type": "markdown",
   "metadata": {},
   "source": [
    "### Кросс-валидация"
   ]
  },
  {
   "cell_type": "code",
   "execution_count": 283,
   "metadata": {},
   "outputs": [
    {
     "data": {
      "image/png": "[encoded data removed]",
      "text/plain": [
       "<Figure size 864x432 with 1 Axes>"
      ]
     },
     "metadata": {},
     "output_type": "display_data"
    }
   ],
   "source": [
    "temp_vec = cross_validate(model, X_test, y_test, cv=10, scoring='roc_auc', return_train_score=True)\n",
    "vis_cross_val_score('ROC-AUC', temp_vec, 0.744846, 1.1)"
   ]
  },
  {
   "cell_type": "markdown",
   "metadata": {},
   "source": [
    "Резюме - Видно что при разбиении на 10 фолдов ROC-AUC меняется не сильно, есть один провал до 0.716. Среднее по фолдам примерно равно предсказанному значению до кроссвалидации 0.744, дисперсия 0.015, поэтому можно попробовать докрутить параметры, провести отбор признаков и делать сабмишен. Также можно попробовать прокрутить модель на регуляризации первого порядка l1 и попробовать избавиться от каких-нибудь признаков, которые не нравятся модели."
   ]
  },
  {
   "cell_type": "markdown",
   "metadata": {},
   "source": [
    "Проверка нулевых коэффициэнтов при регуляризации первого порядка"
   ]
  },
  {
   "cell_type": "code",
   "execution_count": 284,
   "metadata": {},
   "outputs": [
    {
     "data": {
      "text/html": [
       "<div>\n",
       "<style scoped>\n",
       "    .dataframe tbody tr th:only-of-type {\n",
       "        vertical-align: middle;\n",
       "    }\n",
       "\n",
       "    .dataframe tbody tr th {\n",
       "        vertical-align: top;\n",
       "    }\n",
       "\n",
       "    .dataframe thead th {\n",
       "        text-align: right;\n",
       "    }\n",
       "</style>\n",
       "<table border=\"1\" class=\"dataframe\">\n",
       "  <thead>\n",
       "    <tr style=\"text-align: right;\">\n",
       "      <th></th>\n",
       "      <th>имя признака</th>\n",
       "      <th>коэффициент модели</th>\n",
       "    </tr>\n",
       "  </thead>\n",
       "  <tbody>\n",
       "    <tr>\n",
       "      <th>0</th>\n",
       "      <td>score_bki</td>\n",
       "      <td>0.972561</td>\n",
       "    </tr>\n",
       "    <tr>\n",
       "      <th>1</th>\n",
       "      <td>education_SCH</td>\n",
       "      <td>0.670811</td>\n",
       "    </tr>\n",
       "    <tr>\n",
       "      <th>2</th>\n",
       "      <td>education_UGR</td>\n",
       "      <td>0.518006</td>\n",
       "    </tr>\n",
       "    <tr>\n",
       "      <th>3</th>\n",
       "      <td>home_address_2</td>\n",
       "      <td>0.517091</td>\n",
       "    </tr>\n",
       "    <tr>\n",
       "      <th>4</th>\n",
       "      <td>decline_app_cnt</td>\n",
       "      <td>0.414709</td>\n",
       "    </tr>\n",
       "    <tr>\n",
       "      <th>5</th>\n",
       "      <td>work_address_3</td>\n",
       "      <td>0.401951</td>\n",
       "    </tr>\n",
       "    <tr>\n",
       "      <th>6</th>\n",
       "      <td>work_address_2</td>\n",
       "      <td>0.305181</td>\n",
       "    </tr>\n",
       "    <tr>\n",
       "      <th>7</th>\n",
       "      <td>bki_request_cnt</td>\n",
       "      <td>0.282765</td>\n",
       "    </tr>\n",
       "    <tr>\n",
       "      <th>8</th>\n",
       "      <td>sex</td>\n",
       "      <td>0.282382</td>\n",
       "    </tr>\n",
       "    <tr>\n",
       "      <th>9</th>\n",
       "      <td>car_type</td>\n",
       "      <td>-0.282299</td>\n",
       "    </tr>\n",
       "    <tr>\n",
       "      <th>10</th>\n",
       "      <td>education_ACD</td>\n",
       "      <td>-0.274885</td>\n",
       "    </tr>\n",
       "    <tr>\n",
       "      <th>11</th>\n",
       "      <td>education_GRD</td>\n",
       "      <td>0.255575</td>\n",
       "    </tr>\n",
       "    <tr>\n",
       "      <th>12</th>\n",
       "      <td>foreign_passport</td>\n",
       "      <td>-0.239645</td>\n",
       "    </tr>\n",
       "    <tr>\n",
       "      <th>13</th>\n",
       "      <td>good_work</td>\n",
       "      <td>-0.199059</td>\n",
       "    </tr>\n",
       "    <tr>\n",
       "      <th>14</th>\n",
       "      <td>sna</td>\n",
       "      <td>0.146736</td>\n",
       "    </tr>\n",
       "    <tr>\n",
       "      <th>15</th>\n",
       "      <td>age</td>\n",
       "      <td>-0.129414</td>\n",
       "    </tr>\n",
       "    <tr>\n",
       "      <th>16</th>\n",
       "      <td>first_time</td>\n",
       "      <td>-0.111546</td>\n",
       "    </tr>\n",
       "    <tr>\n",
       "      <th>17</th>\n",
       "      <td>home_address_3</td>\n",
       "      <td>0.096369</td>\n",
       "    </tr>\n",
       "    <tr>\n",
       "      <th>18</th>\n",
       "      <td>region_rating</td>\n",
       "      <td>-0.026400</td>\n",
       "    </tr>\n",
       "    <tr>\n",
       "      <th>19</th>\n",
       "      <td>income</td>\n",
       "      <td>-0.008450</td>\n",
       "    </tr>\n",
       "    <tr>\n",
       "      <th>20</th>\n",
       "      <td>days</td>\n",
       "      <td>-0.004351</td>\n",
       "    </tr>\n",
       "    <tr>\n",
       "      <th>21</th>\n",
       "      <td>car</td>\n",
       "      <td>-0.003552</td>\n",
       "    </tr>\n",
       "    <tr>\n",
       "      <th>22</th>\n",
       "      <td>education_PGR</td>\n",
       "      <td>0.000000</td>\n",
       "    </tr>\n",
       "    <tr>\n",
       "      <th>23</th>\n",
       "      <td>work_address_1</td>\n",
       "      <td>0.000000</td>\n",
       "    </tr>\n",
       "    <tr>\n",
       "      <th>24</th>\n",
       "      <td>home_address_1</td>\n",
       "      <td>0.000000</td>\n",
       "    </tr>\n",
       "  </tbody>\n",
       "</table>\n",
       "</div>"
      ],
      "text/plain": [
       "        имя признака  коэффициент модели\n",
       "0          score_bki            0.972561\n",
       "1      education_SCH            0.670811\n",
       "2      education_UGR            0.518006\n",
       "3     home_address_2            0.517091\n",
       "4    decline_app_cnt            0.414709\n",
       "5     work_address_3            0.401951\n",
       "6     work_address_2            0.305181\n",
       "7    bki_request_cnt            0.282765\n",
       "8                sex            0.282382\n",
       "9           car_type           -0.282299\n",
       "10     education_ACD           -0.274885\n",
       "11     education_GRD            0.255575\n",
       "12  foreign_passport           -0.239645\n",
       "13         good_work           -0.199059\n",
       "14               sna            0.146736\n",
       "15               age           -0.129414\n",
       "16        first_time           -0.111546\n",
       "17    home_address_3            0.096369\n",
       "18     region_rating           -0.026400\n",
       "19            income           -0.008450\n",
       "20              days           -0.004351\n",
       "21               car           -0.003552\n",
       "22     education_PGR            0.000000\n",
       "23    work_address_1            0.000000\n",
       "24    home_address_1            0.000000"
      ]
     },
     "metadata": {},
     "output_type": "display_data"
    }
   ],
   "source": [
    "# регуляризация первого порядка l1 позволяет оценить по нулевым или слишком низким коэффициентам признаки,\n",
    "# которые не нравятся модели (в них могут быть выбросы или неподходящий формат)\n",
    "# можно это поможет избавиться от большой дисперсии при кросс-валидации\n",
    "model = LogisticRegression(random_state=RANDOM_SEED, \n",
    "                           C=1, \n",
    "                           class_weight= 'balanced', \n",
    "                           dual= False, \n",
    "                           fit_intercept= True, \n",
    "                           intercept_scaling= 1, \n",
    "                           l1_ratio= None, \n",
    "                           multi_class= 'auto', \n",
    "                           n_jobs= None, \n",
    "                           penalty= 'l1', \n",
    "                           solver = 'liblinear', \n",
    "                           verbose= 0, \n",
    "                           warm_start= False)\n",
    "\n",
    "model.fit(X_train, y_train)\n",
    "\n",
    "display(model_coef(X_train.columns, model.coef_[0]))"
   ]
  },
  {
   "cell_type": "markdown",
   "metadata": {},
   "source": [
    "Резюме - влияние score_bki самое большое, следом идут разные значения рейтинга региона, школьное образование, кол-во отказов.\n",
    "Кандидаты на удаление:\n",
    "\n",
    "work_address_1\n",
    "home_address_1\n",
    "sna_3\n",
    "region_rating_60\n",
    "first_time_3\n",
    "education_PGR"
   ]
  },
  {
   "cell_type": "code",
   "execution_count": 288,
   "metadata": {},
   "outputs": [],
   "source": [
    "# формируем список отсева признаков\n",
    "drop_list_cols = ['work_address_1', 'home_address_1', 'education_PGR']\n",
    "#drop_list_cols = ['work_address_1', 'home_address_1', 'sna_3', 'region_rating_60', 'first_time_3', 'education_PGR']"
   ]
  },
  {
   "cell_type": "code",
   "execution_count": 289,
   "metadata": {},
   "outputs": [],
   "source": [
    "#заново формируем выборки для обучения без этих признаков\n",
    "train_data = df.query('Train == 1').drop(['Train', 'client_id']+drop_list_cols, axis=1)\n",
    "test_data = df.query('Train == 0').drop(['Train', 'client_id']+drop_list_cols, axis=1)\n",
    "\n",
    "y = train_data.default.values            # наш таргет\n",
    "X = train_data.drop(['default'], axis=1)\n",
    "\n",
    "X_train, X_test, y_train, y_test = train_test_split(X, y, test_size=0.2, random_state=RANDOM_SEED)"
   ]
  },
  {
   "cell_type": "markdown",
   "metadata": {},
   "source": [
    "### Проверка качества модели после удаления признаков"
   ]
  },
  {
   "cell_type": "code",
   "execution_count": 290,
   "metadata": {},
   "outputs": [
    {
     "data": {
      "text/html": [
       "<div>\n",
       "<style scoped>\n",
       "    .dataframe tbody tr th:only-of-type {\n",
       "        vertical-align: middle;\n",
       "    }\n",
       "\n",
       "    .dataframe tbody tr th {\n",
       "        vertical-align: top;\n",
       "    }\n",
       "\n",
       "    .dataframe thead th {\n",
       "        text-align: right;\n",
       "    }\n",
       "</style>\n",
       "<table border=\"1\" class=\"dataframe\">\n",
       "  <thead>\n",
       "    <tr style=\"text-align: right;\">\n",
       "      <th></th>\n",
       "      <th>Значение</th>\n",
       "      <th>Дельта с предыдущим</th>\n",
       "      <th>Описание</th>\n",
       "    </tr>\n",
       "  </thead>\n",
       "  <tbody>\n",
       "    <tr>\n",
       "      <th>accuracy</th>\n",
       "      <td>0.672900</td>\n",
       "      <td>0.201694</td>\n",
       "      <td>(TP+TN)/(P+N)</td>\n",
       "    </tr>\n",
       "    <tr>\n",
       "      <th>balanced accuracy</th>\n",
       "      <td>0.677744</td>\n",
       "      <td>-0.168801</td>\n",
       "      <td>сбалансированная accuracy</td>\n",
       "    </tr>\n",
       "    <tr>\n",
       "      <th>precision</th>\n",
       "      <td>0.227231</td>\n",
       "      <td>0.161657</td>\n",
       "      <td>точность = TP/(TP+FP)</td>\n",
       "    </tr>\n",
       "    <tr>\n",
       "      <th>recall</th>\n",
       "      <td>0.684182</td>\n",
       "      <td>-0.661193</td>\n",
       "      <td>полнота = TP/P</td>\n",
       "    </tr>\n",
       "    <tr>\n",
       "      <th>f1_score</th>\n",
       "      <td>0.341157</td>\n",
       "      <td>-0.297746</td>\n",
       "      <td>среднее гармоническое точности и полноты</td>\n",
       "    </tr>\n",
       "    <tr>\n",
       "      <th>roc_auc</th>\n",
       "      <td>0.742684</td>\n",
       "      <td>0.000660</td>\n",
       "      <td>Area Under Curve - Receiver Operating Characte...</td>\n",
       "    </tr>\n",
       "  </tbody>\n",
       "</table>\n",
       "</div>"
      ],
      "text/plain": [
       "                   Значение  Дельта с предыдущим  \\\n",
       "accuracy           0.672900             0.201694   \n",
       "balanced accuracy  0.677744            -0.168801   \n",
       "precision          0.227231             0.161657   \n",
       "recall             0.684182            -0.661193   \n",
       "f1_score           0.341157            -0.297746   \n",
       "roc_auc            0.742684             0.000660   \n",
       "\n",
       "                                                            Описание  \n",
       "accuracy                                               (TP+TN)/(P+N)  \n",
       "balanced accuracy                          сбалансированная accuracy  \n",
       "precision                                      точность = TP/(TP+FP)  \n",
       "recall                                                полнота = TP/P  \n",
       "f1_score                    среднее гармоническое точности и полноты  \n",
       "roc_auc            Area Under Curve - Receiver Operating Characte...  "
      ]
     },
     "metadata": {},
     "output_type": "display_data"
    }
   ],
   "source": [
    "# вторая модель на параметрах после первой оптимизации\n",
    "model = LogisticRegression(random_state=RANDOM_SEED, \n",
    "                           C=1, \n",
    "                           class_weight= 'balanced', \n",
    "                           dual= False, \n",
    "                           fit_intercept= True, \n",
    "                           intercept_scaling= 1, \n",
    "                           l1_ratio= None, \n",
    "                           multi_class= 'auto', \n",
    "                           n_jobs= None, \n",
    "                           penalty= 'l2', \n",
    "                           solver = 'sag', \n",
    "                           verbose= 0, \n",
    "                           warm_start= False)\n",
    "\n",
    "model.fit(X_train, y_train)\n",
    "\n",
    "y_pred_prob = model.predict_proba(X_test)[:,1]\n",
    "y_pred = model.predict(X_test)\n",
    "\n",
    "test_last_pred(y_test, y_pred, y_pred_prob) if (last_pred[0].max() == 0) else 0\n",
    "all_metrics(y_test, y_pred, y_pred_prob)"
   ]
  },
  {
   "cell_type": "code",
   "execution_count": 291,
   "metadata": {},
   "outputs": [
    {
     "data": {
      "image/png": "[encoded data removed]",
      "text/plain": [
       "<Figure size 864x432 with 1 Axes>"
      ]
     },
     "metadata": {},
     "output_type": "display_data"
    }
   ],
   "source": [
    "temp_vec = cross_validate(model, X_test, y_test, cv=10, scoring='roc_auc', return_train_score=True)\n",
    "vis_cross_val_score('ROC-AUC', temp_vec, 0.744262, 1.1)"
   ]
  },
  {
   "cell_type": "markdown",
   "metadata": {},
   "source": [
    "### Поиск оптимальных параметров модели"
   ]
  },
  {
   "cell_type": "code",
   "execution_count": 292,
   "metadata": {},
   "outputs": [],
   "source": [
    "# блок поиска параметров закомментирован потому что он выполняется очень долго, ниже модель использует оптимальные параметры \n",
    "\n",
    "# model = LogisticRegression(multi_class = 'ovr', class_weight='balanced', solver='liblinear', random_state=RANDOM_SEED)\n",
    "\n",
    "# param_grid = [\n",
    "#     {'penalty': ['l1'], 'C':[0.1, 1, 10], 'max_iter':[1000],'tol':[1e-5]},\n",
    "#     {'penalty': ['l2'], 'C':[0.1, 1, 10], 'max_iter':[1000],'tol':[1e-5]},\n",
    "#     {'penalty': ['none'], 'max_iter':[1000],'tol':[1e-5]},\n",
    "# ]\n",
    "# gridsearch = GridSearchCV(model, param_grid, scoring='f1', n_jobs=-1, cv=5)\n",
    "# gridsearch.fit(X_train, y_train)\n",
    "# model = gridsearch.best_estimator_\n",
    "# ##печатаем параметры\n",
    "# best_parameters = model.get_params()\n",
    "# for param_name in sorted(best_parameters.keys()):\n",
    "#         print('\\t%s: %r' % (param_name, best_parameters[param_name]))\n",
    "#     ##печатаем метрики\n",
    "# preds = model.predict(X_test)\n",
    "# print('Accuracy: %.4f' % accuracy_score(y_test, preds))\n",
    "# print('Precision: %.4f' % precision_score(y_test, preds))\n",
    "# print('Recall: %.4f' % recall_score(y_test, preds))\n",
    "# print('F1: %.4f' % f1_score(y_test, preds))"
   ]
  },
  {
   "cell_type": "code",
   "execution_count": 293,
   "metadata": {},
   "outputs": [],
   "source": [
    "# третья модель\n",
    "model = LogisticRegression(C=7, \n",
    "                           penalty='l2', \n",
    "                           multi_class = 'ovr', \n",
    "                           class_weight='balanced', \n",
    "                           solver='liblinear', \n",
    "                           random_state=RANDOM_SEED,\n",
    "                           max_iter = 1000)\n",
    "\n",
    "model.fit(X_train, y_train)\n",
    "\n",
    "y_pred_prob = model.predict_proba(X_test)[:,1]\n",
    "y_pred = model.predict(X_test)"
   ]
  },
  {
   "cell_type": "code",
   "execution_count": 294,
   "metadata": {},
   "outputs": [
    {
     "data": {
      "text/html": [
       "<div>\n",
       "<style scoped>\n",
       "    .dataframe tbody tr th:only-of-type {\n",
       "        vertical-align: middle;\n",
       "    }\n",
       "\n",
       "    .dataframe tbody tr th {\n",
       "        vertical-align: top;\n",
       "    }\n",
       "\n",
       "    .dataframe thead th {\n",
       "        text-align: right;\n",
       "    }\n",
       "</style>\n",
       "<table border=\"1\" class=\"dataframe\">\n",
       "  <thead>\n",
       "    <tr style=\"text-align: right;\">\n",
       "      <th></th>\n",
       "      <th>Значение</th>\n",
       "      <th>Дельта с предыдущим</th>\n",
       "      <th>Описание</th>\n",
       "    </tr>\n",
       "  </thead>\n",
       "  <tbody>\n",
       "    <tr>\n",
       "      <th>accuracy</th>\n",
       "      <td>0.671883</td>\n",
       "      <td>0.001016</td>\n",
       "      <td>(TP+TN)/(P+N)</td>\n",
       "    </tr>\n",
       "    <tr>\n",
       "      <th>balanced accuracy</th>\n",
       "      <td>0.676929</td>\n",
       "      <td>0.000815</td>\n",
       "      <td>сбалансированная accuracy</td>\n",
       "    </tr>\n",
       "    <tr>\n",
       "      <th>precision</th>\n",
       "      <td>0.226514</td>\n",
       "      <td>0.000717</td>\n",
       "      <td>точность = TP/(TP+FP)</td>\n",
       "    </tr>\n",
       "    <tr>\n",
       "      <th>recall</th>\n",
       "      <td>0.683634</td>\n",
       "      <td>0.000547</td>\n",
       "      <td>полнота = TP/P</td>\n",
       "    </tr>\n",
       "    <tr>\n",
       "      <th>f1_score</th>\n",
       "      <td>0.340281</td>\n",
       "      <td>0.000877</td>\n",
       "      <td>среднее гармоническое точности и полноты</td>\n",
       "    </tr>\n",
       "    <tr>\n",
       "      <th>roc_auc</th>\n",
       "      <td>0.743545</td>\n",
       "      <td>-0.000861</td>\n",
       "      <td>Area Under Curve - Receiver Operating Characte...</td>\n",
       "    </tr>\n",
       "  </tbody>\n",
       "</table>\n",
       "</div>"
      ],
      "text/plain": [
       "                   Значение  Дельта с предыдущим  \\\n",
       "accuracy           0.671883             0.001016   \n",
       "balanced accuracy  0.676929             0.000815   \n",
       "precision          0.226514             0.000717   \n",
       "recall             0.683634             0.000547   \n",
       "f1_score           0.340281             0.000877   \n",
       "roc_auc            0.743545            -0.000861   \n",
       "\n",
       "                                                            Описание  \n",
       "accuracy                                               (TP+TN)/(P+N)  \n",
       "balanced accuracy                          сбалансированная accuracy  \n",
       "precision                                      точность = TP/(TP+FP)  \n",
       "recall                                                полнота = TP/P  \n",
       "f1_score                    среднее гармоническое точности и полноты  \n",
       "roc_auc            Area Under Curve - Receiver Operating Characte...  "
      ]
     },
     "metadata": {},
     "output_type": "display_data"
    }
   ],
   "source": [
    "test_last_pred(y_test, y_pred, y_pred_prob) if (last_pred[0].max() == 0) else 0\n",
    "all_metrics(y_test, y_pred, y_pred_prob)"
   ]
  },
  {
   "cell_type": "code",
   "execution_count": 295,
   "metadata": {},
   "outputs": [
    {
     "data": {
      "image/png": "[encoded data removed]",
      "text/plain": [
       "<Figure size 460.8x316.8 with 2 Axes>"
      ]
     },
     "metadata": {},
     "output_type": "display_data"
    }
   ],
   "source": [
    "confusion_matrix_f(['Дефолтный','Не дефолтный'], y_test, y_pred, 1.2, normalize=False)"
   ]
  },
  {
   "cell_type": "code",
   "execution_count": 296,
   "metadata": {},
   "outputs": [
    {
     "data": {
      "image/png": "[encoded data removed]",
      "text/plain": [
       "<Figure size 576x432 with 1 Axes>"
      ]
     },
     "metadata": {},
     "output_type": "display_data"
    }
   ],
   "source": [
    "ROC_curve_with_area(y_test, y_pred_prob, 1.1)"
   ]
  },
  {
   "cell_type": "code",
   "execution_count": 297,
   "metadata": {},
   "outputs": [
    {
     "data": {
      "image/png": "[encoded data removed]",
      "text/plain": [
       "<Figure size 576x432 with 1 Axes>"
      ]
     },
     "metadata": {},
     "output_type": "display_data"
    }
   ],
   "source": [
    "PR_curve_with_area(y_test, y_pred, 1.1)"
   ]
  },
  {
   "cell_type": "code",
   "execution_count": 298,
   "metadata": {},
   "outputs": [
    {
     "data": {
      "image/png": "[encoded data removed]",
      "text/plain": [
       "<Figure size 864x432 with 1 Axes>"
      ]
     },
     "metadata": {},
     "output_type": "display_data"
    }
   ],
   "source": [
    "temp_vec = cross_validate(model, X_test, y_test, cv=10, scoring='roc_auc', return_train_score=True)\n",
    "vis_cross_val_score('ROC-AUC', temp_vec, 0.744262, 1.1)"
   ]
  },
  {
   "cell_type": "markdown",
   "metadata": {},
   "source": [
    "### Отбор признаков"
   ]
  },
  {
   "cell_type": "code",
   "execution_count": 299,
   "metadata": {},
   "outputs": [],
   "source": [
    "# отбор признаков не удалось довести до конца даже на локальной машине, поэтому тут просто приводится код\n",
    "\n",
    "# model = LogisticRegression(C=7, penalty='l2', multi_class = 'ovr', class_weight='balanced', solver='liblinear', random_state=RANDOM_SEED)\n",
    "\n",
    "# efs1 = EFS(model, \n",
    "#            min_features=1,\n",
    "#            max_features=10,\n",
    "#            scoring='roc_auc',\n",
    "#            print_progress=True,\n",
    "#            cv=5)\n",
    "\n",
    "# efs1 = efs1.fit(X_train, y_train)\n",
    "\n",
    "# print('Best roc_auc score: %.2f' % efs1.best_score_)\n",
    "# print('Best subset (indices):', efs1.best_idx_)\n",
    "# print('Best subset (corresponding names):', efs1.best_feature_names_)"
   ]
  },
  {
   "cell_type": "markdown",
   "metadata": {},
   "source": [
    "## Submission"
   ]
  },
  {
   "cell_type": "code",
   "execution_count": 300,
   "metadata": {},
   "outputs": [],
   "source": [
    "train_data = df.query('Train == 1').drop(['Train', 'client_id']+drop_list_cols, axis=1)\n",
    "test_data = df.query('Train == 0').drop(['Train', 'client_id']+drop_list_cols, axis=1)"
   ]
  },
  {
   "cell_type": "code",
   "execution_count": 301,
   "metadata": {},
   "outputs": [],
   "source": [
    "X_train=train_data.drop(['default'], axis=1)\n",
    "y_train = train_data.default.values\n",
    "X_test = test_data.drop(['default'], axis=1)"
   ]
  },
  {
   "cell_type": "code",
   "execution_count": 302,
   "metadata": {},
   "outputs": [
    {
     "data": {
      "text/plain": [
       "((36349, 23), (73799, 23), (73799, 22), (73799,), (36349, 22))"
      ]
     },
     "execution_count": 302,
     "metadata": {},
     "output_type": "execute_result"
    }
   ],
   "source": [
    "# проверяем\n",
    "test_data.shape, train_data.shape, X_train.shape, y_train.shape, X_test.shape"
   ]
  },
  {
   "cell_type": "code",
   "execution_count": 303,
   "metadata": {},
   "outputs": [
    {
     "data": {
      "text/plain": [
       "LogisticRegression(C=7, class_weight='balanced', max_iter=1000,\n",
       "                   multi_class='ovr', random_state=42, solver='liblinear')"
      ]
     },
     "execution_count": 303,
     "metadata": {},
     "output_type": "execute_result"
    }
   ],
   "source": [
    "model = LogisticRegression(C=7, \n",
    "                           penalty='l2', \n",
    "                           multi_class = 'ovr', \n",
    "                           class_weight='balanced', \n",
    "                           solver='liblinear', \n",
    "                           random_state=RANDOM_SEED,\n",
    "                           max_iter=1000)\n",
    "\n",
    "model.fit(X_train, y_train)"
   ]
  },
  {
   "cell_type": "code",
   "execution_count": 305,
   "metadata": {},
   "outputs": [],
   "source": [
    "y_pred_prob = model.predict_proba(X_test)[:,1]\n",
    "\n",
    "\n",
    "submit = pd.DataFrame(df_test.client_id)\n",
    "submit['default']=y_pred_prob\n",
    "submit.to_csv(PATH_to_file+'submission.csv', index=False)"
   ]
  },
  {
   "cell_type": "markdown",
   "metadata": {},
   "source": [
    "Резюме:\n",
    "не хватило времени почистить от выбросов признак income и запустить EFS"
   ]
  }
 ],
 "metadata": {
  "kernelspec": {
   "display_name": "Python 3",
   "language": "python",
   "name": "python3"
  },
  "language_info": {
   "codemirror_mode": {
    "name": "ipython",
    "version": 3
   },
   "file_extension": ".py",
   "mimetype": "text/x-python",
   "name": "python",
   "nbconvert_exporter": "python",
   "pygments_lexer": "ipython3",
   "version": "3.7.3"
  }
 },
 "nbformat": 4,
 "nbformat_minor": 2
}
